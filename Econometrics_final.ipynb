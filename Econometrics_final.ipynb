{
  "nbformat": 4,
  "nbformat_minor": 0,
  "metadata": {
    "colab": {
      "provenance": []
    },
    "kernelspec": {
      "name": "python3",
      "display_name": "Python 3"
    },
    "language_info": {
      "name": "python"
    }
  },
  "cells": [
    {
      "cell_type": "code",
      "execution_count": null,
      "metadata": {
        "id": "-G7qX2rQBXDF"
      },
      "outputs": [],
      "source": [
        "import pandas as pd\n",
        "import numpy as np\n",
        "import matplotlib.pyplot as plt\n",
        "import seaborn as sns\n",
        "import statsmodels.api as sm\n",
        "from statsmodels.stats.outliers_influence import variance_inflation_factor\n",
        "from statsmodels.tools.tools import add_constant\n",
        "from sklearn.model_selection import train_test_split\n",
        "from sklearn.model_selection import cross_val_score\n",
        "from sklearn.preprocessing import StandardScaler"
      ]
    },
    {
      "cell_type": "markdown",
      "source": [
        "https://drive.google.com/file/d/1dLAE0W2mkAoYESoOC2Z3P4f4ro8TPEkZ/view?usp=drive_link"
      ],
      "metadata": {
        "id": "5fLfQxiuMs_E"
      }
    },
    {
      "cell_type": "markdown",
      "source": [
        "# Load data\n"
      ],
      "metadata": {
        "id": "qr5AscxaPJlq"
      }
    },
    {
      "cell_type": "code",
      "source": [
        "data01_df = pd.read_csv('transfermarkt_fbref_201718.csv')\n",
        "data02_df = pd.read_csv('transfermarkt_fbref_201819.csv')\n",
        "data_df = pd.read_csv('transfermarkt_fbref_201920.csv')\n",
        "data_df = pd.concat([data_df, data01_df])\n",
        "data_df = pd.concat([data_df, data02_df])\n",
        "condition = (data_df['age'] > 1000) | (data_df['age'] == 0)\n",
        "data_df = data_df.drop(data_df[condition].index, axis=0)\n",
        "data_df['height'] = pd.to_numeric(data_df['height'], errors='coerce')\n",
        "condition = (data_df['height'] == 0)\n",
        "data_df = data_df.drop(data_df[condition].index, axis=0)\n",
        "\n",
        "data_df['CLBestScorer'] = data_df['CLBestScorer'].fillna(0)\n",
        "data_df = data_df.fillna(0)\n",
        "data_df = data_df.drop('xG.1', axis=1)\n",
        "# data_df.head()"
      ],
      "metadata": {
        "id": "bil3HrToBmp7",
        "colab": {
          "base_uri": "https://localhost:8080/"
        },
        "outputId": "72e275a0-f1d0-4c75-d857-534401639e54"
      },
      "execution_count": null,
      "outputs": [
        {
          "output_type": "stream",
          "name": "stderr",
          "text": [
            "<ipython-input-4-1024517dd679>:2: DtypeWarning: Columns (395) have mixed types. Specify dtype option on import or set low_memory=False.\n",
            "  data02_df = pd.read_csv('transfermarkt_fbref_201819.csv')\n"
          ]
        }
      ]
    },
    {
      "cell_type": "code",
      "source": [
        "temp = data_df.isnull().sum()\n",
        "temp[temp != 0]\n"
      ],
      "metadata": {
        "colab": {
          "base_uri": "https://localhost:8080/"
        },
        "id": "po-z1J5A4W8E",
        "outputId": "e3a1bcb4-57ca-4ab4-d759-d6d12160d374"
      },
      "execution_count": null,
      "outputs": [
        {
          "output_type": "execute_result",
          "data": {
            "text/plain": [
              "Series([], dtype: int64)"
            ]
          },
          "metadata": {},
          "execution_count": 5
        }
      ]
    },
    {
      "cell_type": "code",
      "source": [
        "data_df['value'].describe()"
      ],
      "metadata": {
        "id": "nXUG7dPc5GD1",
        "colab": {
          "base_uri": "https://localhost:8080/"
        },
        "outputId": "2e07b4e0-fcd8-4892-c79e-040cba95d6a1"
      },
      "execution_count": null,
      "outputs": [
        {
          "output_type": "execute_result",
          "data": {
            "text/plain": [
              "count    6.565000e+03\n",
              "mean     1.020603e+07\n",
              "std      1.640225e+07\n",
              "min      5.000000e+01\n",
              "25%      1.500000e+06\n",
              "50%      4.000000e+06\n",
              "75%      1.200000e+07\n",
              "max      2.000000e+08\n",
              "Name: value, dtype: float64"
            ]
          },
          "metadata": {},
          "execution_count": 6
        }
      ]
    },
    {
      "cell_type": "code",
      "source": [
        "# mean = data_df['value'].mean()\n",
        "# std = data_df['value'].std()\n",
        "# test_df = data_df.copy()\n",
        "# test_df = test_df[test_df['value'] <= mean + 2*std]\n",
        "# # test_df = test_df[test_df['value'] >= mean - 2*std]\n",
        "# # test_df.head()\n",
        "# data_df = test_df.copy()"
      ],
      "metadata": {
        "id": "TDgWcpS5VgC5"
      },
      "execution_count": null,
      "outputs": []
    },
    {
      "cell_type": "code",
      "source": [
        "# fig, ax = plt.subplots(figsize=(18,19))\n",
        "# plt.scatter(data_df['age'], np.log(data_df['value']))\n",
        "# plt.xlabel('age')\n",
        "# plt.ylabel('Value')\n",
        "# plt.title('Scatter plot of Value vs age')\n",
        "# plt.ticklabel_format(style='plain')\n",
        "# plt.show()"
      ],
      "metadata": {
        "id": "cqc9XXNv8ZgA"
      },
      "execution_count": null,
      "outputs": []
    },
    {
      "cell_type": "code",
      "source": [
        "data201920_df = data_df.copy()\n",
        "\n",
        "dummies = pd.get_dummies(data201920_df[['league']], prefix_sep='_')\n",
        "data201920_df = pd.concat([data201920_df, dummies], axis=1)\n",
        "data201920_df = data201920_df.rename({\"league_Bundesliga\":\"isBundesliga\",\n",
        "                                \"league_La Liga\":\"isLaLiga\",\n",
        "                                \"league_Premier League\":\"isPremierLeague\",\n",
        "                                \"league_Ligue 1\":\"isLigue1\",\n",
        "                                \"league_Serie A\":\"isSerieA\"},axis='columns')\n",
        "dummies_foot = pd.get_dummies(data201920_df[['foot']], prefix_sep='_')\n",
        "data201920_df = pd.concat([data201920_df, dummies_foot], axis=1)\n",
        "\n",
        "data201920_df = data201920_df[data201920_df['value']>1000000]\n",
        "data201920_df = data201920_df[data201920_df['games']>5]\n",
        "data201920_df = data201920_df[data201920_df['age']>0]\n",
        "\n",
        "data201920_df.info()"
      ],
      "metadata": {
        "id": "I783yD4rBdly",
        "colab": {
          "base_uri": "https://localhost:8080/"
        },
        "outputId": "ca6d43b7-7ee5-4321-eefb-bea32f75f157"
      },
      "execution_count": null,
      "outputs": [
        {
          "output_type": "stream",
          "name": "stdout",
          "text": [
            "<class 'pandas.core.frame.DataFrame'>\n",
            "Int64Index: 5486 entries, 0 to 2099\n",
            "Columns: 409 entries, Column1 to foot_right\n",
            "dtypes: float64(263), int64(126), object(11), uint8(9)\n",
            "memory usage: 16.8+ MB\n"
          ]
        }
      ]
    },
    {
      "cell_type": "code",
      "source": [
        "data201920_df = data201920_df.drop(['Season\\t\\t'], axis=1)\n",
        "# data201920_df.describe()"
      ],
      "metadata": {
        "id": "P8ZvysCXKbDj"
      },
      "execution_count": null,
      "outputs": []
    },
    {
      "cell_type": "code",
      "source": [
        "def stepwise_selection(X, y,\n",
        "               initial_list = [],\n",
        "               threshold_in = 0.01,\n",
        "               threshold_out = 0.05,\n",
        "               verbose=True):\n",
        "    included = list(initial_list)\n",
        "    while True:\n",
        "        changed = False\n",
        "        # 後向刪除\n",
        "        excluded = list(set(X.columns) - set(included))\n",
        "        new_pval = pd.Series(dtype=float,index=excluded)\n",
        "        for new_column in excluded:\n",
        "            model = sm.OLS(y, sm.add_constant(pd.DataFrame(X[included + [new_column]]))).fit()\n",
        "            new_pval[new_column] = model.pvalues[new_column]\n",
        "        # 找到p-value最小的欄位\n",
        "        min_pval = new_pval.min()\n",
        "        if min_pval < threshold_in:\n",
        "            best_feature = new_pval.argmin()\n",
        "            included.append(best_feature)\n",
        "            changed = True\n",
        "            if verbose:\n",
        "                print(f'加入特徵：{best_feature:20}，P-value：{min_pval:.10f}')\n",
        "        # 前向選擇\n",
        "        model = sm.OLS(y, sm.add_constant(pd.DataFrame(X[included]))).fit()\n",
        "        pvalues = model.pvalues.iloc[1:]\n",
        "        # 找到p-value最大的欄位\n",
        "        max_pval = pvalues.max()\n",
        "        if max_pval > threshold_out:\n",
        "            changed = True\n",
        "            worst_feature = pvalues.argmax()\n",
        "            included.pop(worst_feature)\n",
        "            if verbose:\n",
        "                print(f'刪除特徵：{worst_feature:20}，P-value：{max_pval:.10f}')\n",
        "        if not changed:\n",
        "            break\n",
        "    return included"
      ],
      "metadata": {
        "id": "tT-F5rmAUr2d"
      },
      "execution_count": null,
      "outputs": []
    },
    {
      "cell_type": "markdown",
      "source": [
        "# FWD"
      ],
      "metadata": {
        "id": "m2Wo6TUxWW_I"
      }
    },
    {
      "cell_type": "code",
      "source": [
        "dataFWD = data201920_df[data201920_df['position2'].str[:7]=='Forward']\n",
        "# dataFWD.head()"
      ],
      "metadata": {
        "id": "23W9W2z2Q1aP"
      },
      "execution_count": null,
      "outputs": []
    },
    {
      "cell_type": "code",
      "source": [
        "COLUMNS_FWD = ['games', 'Pts', 'goals','passes','dribbles','pressures', 'touches_att_pen_area','tackles','age','ball_recoveries','miscontrols','offsides']\n",
        "\n",
        "X = dataFWD[COLUMNS_FWD]\n",
        "y = np.log(dataFWD['value'])\n",
        "X = sm.add_constant(X)\n",
        "model = sm.OLS(y, X)\n",
        "\n",
        "results = model.fit()\n",
        "vif = pd.DataFrame()\n",
        "vif[\"VIF Factor\"] = [variance_inflation_factor(X.values, i) for i in range(X.shape[1])]\n",
        "vif[\"features\"] = X.columns\n",
        "print(vif)\n",
        "print(results.summary())"
      ],
      "metadata": {
        "colab": {
          "base_uri": "https://localhost:8080/"
        },
        "id": "-8r1AUTgUMHP",
        "outputId": "74bcce5c-c566-4484-e935-956bff98e2ad"
      },
      "execution_count": null,
      "outputs": [
        {
          "output_type": "stream",
          "name": "stdout",
          "text": [
            "    VIF Factor              features\n",
            "0    75.060609                 const\n",
            "1     4.327528                 games\n",
            "2     1.431950                   Pts\n",
            "3     3.527864                 goals\n",
            "4     5.602956                passes\n",
            "5     3.186390              dribbles\n",
            "6     6.274234             pressures\n",
            "7     7.068749  touches_att_pen_area\n",
            "8     3.437220               tackles\n",
            "9     1.185171                   age\n",
            "10    9.572302       ball_recoveries\n",
            "11    5.302794           miscontrols\n",
            "12    2.829643              offsides\n",
            "                            OLS Regression Results                            \n",
            "==============================================================================\n",
            "Dep. Variable:                  value   R-squared:                       0.626\n",
            "Model:                            OLS   Adj. R-squared:                  0.622\n",
            "Method:                 Least Squares   F-statistic:                     132.1\n",
            "Date:                Sat, 27 May 2023   Prob (F-statistic):          1.27e-192\n",
            "Time:                        15:28:55   Log-Likelihood:                -968.15\n",
            "No. Observations:                 959   AIC:                             1962.\n",
            "Df Residuals:                     946   BIC:                             2026.\n",
            "Df Model:                          12                                         \n",
            "Covariance Type:            nonrobust                                         \n",
            "========================================================================================\n",
            "                           coef    std err          t      P>|t|      [0.025      0.975]\n",
            "----------------------------------------------------------------------------------------\n",
            "const                   16.1735      0.187     86.465      0.000      15.806      16.541\n",
            "games                   -0.0179      0.005     -3.516      0.000      -0.028      -0.008\n",
            "Pts                      0.0261      0.002     16.644      0.000       0.023       0.029\n",
            "goals                    0.0252      0.007      3.378      0.001       0.011       0.040\n",
            "passes                   0.0009      0.000      6.192      0.000       0.001       0.001\n",
            "dribbles                 0.0022      0.001      2.251      0.025       0.000       0.004\n",
            "pressures                0.0010      0.000      3.313      0.001       0.000       0.002\n",
            "touches_att_pen_area     0.0050      0.001      5.106      0.000       0.003       0.007\n",
            "tackles                 -0.0076      0.003     -2.507      0.012      -0.013      -0.002\n",
            "age                     -0.0836      0.006    -13.484      0.000      -0.096      -0.071\n",
            "ball_recoveries         -0.0021      0.001     -1.757      0.079      -0.004       0.000\n",
            "miscontrols             -0.0019      0.002     -0.959      0.338      -0.006       0.002\n",
            "offsides                 0.0059      0.004      1.350      0.177      -0.003       0.014\n",
            "==============================================================================\n",
            "Omnibus:                        3.655   Durbin-Watson:                   1.385\n",
            "Prob(Omnibus):                  0.161   Jarque-Bera (JB):                3.176\n",
            "Skew:                          -0.059   Prob(JB):                        0.204\n",
            "Kurtosis:                       2.744   Cond. No.                     6.21e+03\n",
            "==============================================================================\n",
            "\n",
            "Notes:\n",
            "[1] Standard Errors assume that the covariance matrix of the errors is correctly specified.\n",
            "[2] The condition number is large, 6.21e+03. This might indicate that there are\n",
            "strong multicollinearity or other numerical problems.\n"
          ]
        }
      ]
    },
    {
      "cell_type": "code",
      "source": [
        "COLUMNS_FWD = ['Pts','passes','pressures','tackles','miscontrols','offsides']\n",
        "COLUMNS_FWD += ['goals', 'dribbles', 'ball_recoveries', 'touches_att_pen_area','gca']\n",
        "\n",
        "X = dataFWD[COLUMNS_FWD]\n",
        "y = np.log(dataFWD['value'])\n",
        "result = stepwise_selection(X, y, COLUMNS_FWD)\n",
        "print(result)"
      ],
      "metadata": {
        "colab": {
          "base_uri": "https://localhost:8080/"
        },
        "id": "i3uRpCuuOhwN",
        "outputId": "955add92-03bd-47cd-893c-7888e5e996eb"
      },
      "execution_count": null,
      "outputs": [
        {
          "output_type": "stream",
          "name": "stdout",
          "text": [
            "刪除特徵：                   5，P-value：0.5447515997\n",
            "刪除特徵：                   9，P-value：0.4387324174\n",
            "刪除特徵：                   4，P-value：0.1954544539\n",
            "刪除特徵：                   6，P-value：0.0929481582\n",
            "['Pts', 'passes', 'pressures', 'tackles', 'goals', 'dribbles', 'touches_att_pen_area']\n"
          ]
        }
      ]
    },
    {
      "cell_type": "code",
      "source": [
        "result += ['gca','games_starts','age','CL','errors']\n",
        "\n",
        "X = dataFWD[result]\n",
        "X = sm.add_constant(X)\n",
        "model = sm.OLS(y, X)\n",
        "results = model.fit()\n",
        "\n",
        "vif = pd.DataFrame()\n",
        "vif[\"VIF Factor\"] = [variance_inflation_factor(X.values, i) for i in range(X.shape[1])]\n",
        "vif[\"features\"] = X.columns\n",
        "print(vif)\n",
        "print(results.summary())"
      ],
      "metadata": {
        "colab": {
          "base_uri": "https://localhost:8080/"
        },
        "id": "PM-Yo8eMV-Xf",
        "outputId": "94cae7c1-4a62-4d38-9192-0e717e2c9637"
      },
      "execution_count": null,
      "outputs": [
        {
          "output_type": "stream",
          "name": "stdout",
          "text": [
            "    VIF Factor              features\n",
            "0    72.338661                 const\n",
            "1     2.499111                   Pts\n",
            "2     6.002763                passes\n",
            "3     5.532567             pressures\n",
            "4     2.989823               tackles\n",
            "5     3.868843                 goals\n",
            "6     2.855959              dribbles\n",
            "7     6.002133  touches_att_pen_area\n",
            "8     4.204420                   gca\n",
            "9     9.483866          games_starts\n",
            "10    1.172317                   age\n",
            "11    2.309717                    CL\n",
            "12    1.047157                errors\n",
            "                            OLS Regression Results                            \n",
            "==============================================================================\n",
            "Dep. Variable:                  value   R-squared:                       0.628\n",
            "Model:                            OLS   Adj. R-squared:                  0.623\n",
            "Method:                 Least Squares   F-statistic:                     133.1\n",
            "Date:                Sat, 27 May 2023   Prob (F-statistic):          1.49e-193\n",
            "Time:                        15:28:55   Log-Likelihood:                -965.97\n",
            "No. Observations:                 959   AIC:                             1958.\n",
            "Df Residuals:                     946   BIC:                             2021.\n",
            "Df Model:                          12                                         \n",
            "Covariance Type:            nonrobust                                         \n",
            "========================================================================================\n",
            "                           coef    std err          t      P>|t|      [0.025      0.975]\n",
            "----------------------------------------------------------------------------------------\n",
            "const                   16.0811      0.183     87.774      0.000      15.722      16.441\n",
            "Pts                      0.0215      0.002     10.381      0.000       0.017       0.026\n",
            "passes                   0.0004      0.000      2.474      0.014    7.41e-05       0.001\n",
            "pressures                0.0001      0.000      0.506      0.613      -0.000       0.001\n",
            "tackles                 -0.0088      0.003     -3.145      0.002      -0.014      -0.003\n",
            "goals                    0.0208      0.008      2.672      0.008       0.006       0.036\n",
            "dribbles                 0.0013      0.001      1.432      0.152      -0.000       0.003\n",
            "touches_att_pen_area     0.0033      0.001      3.650      0.000       0.002       0.005\n",
            "gca                      0.0093      0.008      1.197      0.232      -0.006       0.025\n",
            "games_starts             0.0155      0.007      2.306      0.021       0.002       0.029\n",
            "age                     -0.0817      0.006    -13.287      0.000      -0.094      -0.070\n",
            "CL                       0.3774      0.082      4.595      0.000       0.216       0.539\n",
            "errors                  -0.0558      0.080     -0.694      0.488      -0.214       0.102\n",
            "==============================================================================\n",
            "Omnibus:                        2.975   Durbin-Watson:                   1.348\n",
            "Prob(Omnibus):                  0.226   Jarque-Bera (JB):                2.587\n",
            "Skew:                          -0.033   Prob(JB):                        0.274\n",
            "Kurtosis:                       2.754   Cond. No.                     6.07e+03\n",
            "==============================================================================\n",
            "\n",
            "Notes:\n",
            "[1] Standard Errors assume that the covariance matrix of the errors is correctly specified.\n",
            "[2] The condition number is large, 6.07e+03. This might indicate that there are\n",
            "strong multicollinearity or other numerical problems.\n"
          ]
        }
      ]
    },
    {
      "cell_type": "markdown",
      "source": [
        "# 固定效果"
      ],
      "metadata": {
        "id": "HUBiOW3K0AUE"
      }
    },
    {
      "cell_type": "code",
      "source": [
        "COLUMNS_FWD = ['Pts','passes','tackles','age','goals','dribbles','touches_att_pen_area','gca']\n",
        "COLUMNS_FWD += ['games_starts','age','CL','errors']\n",
        "COLUMNS_FWD += ['isSerieA']\n",
        "\n",
        "X = dataFWD[COLUMNS_FWD]\n",
        "y = np.log(dataFWD['value'])\n",
        "X = sm.add_constant(X)\n",
        "model = sm.OLS(y, X)\n",
        "\n",
        "results = model.fit()\n",
        "vif = pd.DataFrame()\n",
        "vif[\"VIF Factor\"] = [variance_inflation_factor(X.values, i) for i in range(X.shape[1])]\n",
        "vif[\"features\"] = X.columns\n",
        "# print(vif)\n",
        "print(results.summary())"
      ],
      "metadata": {
        "colab": {
          "base_uri": "https://localhost:8080/"
        },
        "id": "fsNkX1X70AAl",
        "outputId": "5d82552b-a178-4632-b371-a5185f78bcfd"
      },
      "execution_count": null,
      "outputs": [
        {
          "output_type": "stream",
          "name": "stdout",
          "text": [
            "                            OLS Regression Results                            \n",
            "==============================================================================\n",
            "Dep. Variable:                  value   R-squared:                       0.628\n",
            "Model:                            OLS   Adj. R-squared:                  0.624\n",
            "Method:                 Least Squares   F-statistic:                     133.4\n",
            "Date:                Sat, 27 May 2023   Prob (F-statistic):          8.03e-194\n",
            "Time:                        15:28:55   Log-Likelihood:                -965.33\n",
            "No. Observations:                 959   AIC:                             1957.\n",
            "Df Residuals:                     946   BIC:                             2020.\n",
            "Df Model:                          12                                         \n",
            "Covariance Type:            nonrobust                                         \n",
            "========================================================================================\n",
            "                           coef    std err          t      P>|t|      [0.025      0.975]\n",
            "----------------------------------------------------------------------------------------\n",
            "const                   16.0924      0.181     88.772      0.000      15.737      16.448\n",
            "Pts                      0.0216      0.002     10.443      0.000       0.018       0.026\n",
            "passes                   0.0004      0.000      2.517      0.012    8.03e-05       0.001\n",
            "tackles                 -0.0084      0.002     -3.480      0.001      -0.013      -0.004\n",
            "age                     -0.0409      0.003    -13.363      0.000      -0.047      -0.035\n",
            "goals                    0.0205      0.008      2.640      0.008       0.005       0.036\n",
            "dribbles                 0.0012      0.001      1.373      0.170      -0.001       0.003\n",
            "touches_att_pen_area     0.0035      0.001      3.866      0.000       0.002       0.005\n",
            "gca                      0.0089      0.008      1.147      0.252      -0.006       0.024\n",
            "games_starts             0.0167      0.006      2.831      0.005       0.005       0.028\n",
            "age                     -0.0409      0.003    -13.363      0.000      -0.047      -0.035\n",
            "CL                       0.3669      0.082      4.454      0.000       0.205       0.529\n",
            "errors                  -0.0576      0.080     -0.717      0.474      -0.215       0.100\n",
            "isSerieA                -0.0702      0.057     -1.226      0.221      -0.183       0.042\n",
            "==============================================================================\n",
            "Omnibus:                        3.794   Durbin-Watson:                   1.349\n",
            "Prob(Omnibus):                  0.150   Jarque-Bera (JB):                3.208\n",
            "Skew:                          -0.047   Prob(JB):                        0.201\n",
            "Kurtosis:                       2.733   Cond. No.                     2.98e+18\n",
            "==============================================================================\n",
            "\n",
            "Notes:\n",
            "[1] Standard Errors assume that the covariance matrix of the errors is correctly specified.\n",
            "[2] The smallest eigenvalue is 4.29e-29. This might indicate that there are\n",
            "strong multicollinearity problems or that the design matrix is singular.\n"
          ]
        },
        {
          "output_type": "stream",
          "name": "stderr",
          "text": [
            "/usr/local/lib/python3.10/dist-packages/statsmodels/stats/outliers_influence.py:195: RuntimeWarning: divide by zero encountered in double_scalars\n",
            "  vif = 1. / (1. - r_squared_i)\n"
          ]
        }
      ]
    },
    {
      "cell_type": "code",
      "source": [
        "COLUMNS_FWD = ['Pts','passes','tackles','age','goals','dribbles','touches_att_pen_area','gca']\n",
        "COLUMNS_FWD += ['games_starts','age','CL','errors']\n",
        "COLUMNS_FWD += ['isPremierLeague']\n",
        "\n",
        "X = dataFWD[COLUMNS_FWD]\n",
        "y = np.log(dataFWD['value'])\n",
        "X = sm.add_constant(X)\n",
        "model = sm.OLS(y, X)\n",
        "\n",
        "results = model.fit()\n",
        "vif = pd.DataFrame()\n",
        "vif[\"VIF Factor\"] = [variance_inflation_factor(X.values, i) for i in range(X.shape[1])]\n",
        "vif[\"features\"] = X.columns\n",
        "# print(vif)\n",
        "print(results.summary())"
      ],
      "metadata": {
        "colab": {
          "base_uri": "https://localhost:8080/"
        },
        "id": "TZXLEZJl0uPe",
        "outputId": "82e516a2-246f-4161-829c-bdbdd4ac5675"
      },
      "execution_count": null,
      "outputs": [
        {
          "output_type": "stream",
          "name": "stdout",
          "text": [
            "                            OLS Regression Results                            \n",
            "==============================================================================\n",
            "Dep. Variable:                  value   R-squared:                       0.676\n",
            "Model:                            OLS   Adj. R-squared:                  0.672\n",
            "Method:                 Least Squares   F-statistic:                     164.8\n",
            "Date:                Sat, 27 May 2023   Prob (F-statistic):          5.14e-222\n",
            "Time:                        15:28:55   Log-Likelihood:                -899.15\n",
            "No. Observations:                 959   AIC:                             1824.\n",
            "Df Residuals:                     946   BIC:                             1888.\n",
            "Df Model:                          12                                         \n",
            "Covariance Type:            nonrobust                                         \n",
            "========================================================================================\n",
            "                           coef    std err          t      P>|t|      [0.025      0.975]\n",
            "----------------------------------------------------------------------------------------\n",
            "const                   16.0695      0.169     94.975      0.000      15.737      16.402\n",
            "Pts                      0.0204      0.002     10.571      0.000       0.017       0.024\n",
            "passes                   0.0004      0.000      2.780      0.006       0.000       0.001\n",
            "tackles                 -0.0107      0.002     -4.781      0.000      -0.015      -0.006\n",
            "age                     -0.0418      0.003    -14.631      0.000      -0.047      -0.036\n",
            "goals                    0.0260      0.007      3.581      0.000       0.012       0.040\n",
            "dribbles                 0.0016      0.001      1.882      0.060   -6.83e-05       0.003\n",
            "touches_att_pen_area     0.0022      0.001      2.592      0.010       0.001       0.004\n",
            "gca                      0.0114      0.007      1.568      0.117      -0.003       0.026\n",
            "games_starts             0.0198      0.005      3.608      0.000       0.009       0.031\n",
            "age                     -0.0418      0.003    -14.631      0.000      -0.047      -0.036\n",
            "CL                       0.4127      0.077      5.385      0.000       0.262       0.563\n",
            "errors                  -0.0151      0.075     -0.201      0.841      -0.162       0.132\n",
            "isPremierLeague          0.5767      0.048     11.905      0.000       0.482       0.672\n",
            "==============================================================================\n",
            "Omnibus:                        2.650   Durbin-Watson:                   1.479\n",
            "Prob(Omnibus):                  0.266   Jarque-Bera (JB):                2.310\n",
            "Skew:                           0.006   Prob(JB):                        0.315\n",
            "Kurtosis:                       2.760   Cond. No.                     2.82e+18\n",
            "==============================================================================\n",
            "\n",
            "Notes:\n",
            "[1] Standard Errors assume that the covariance matrix of the errors is correctly specified.\n",
            "[2] The smallest eigenvalue is 4.79e-29. This might indicate that there are\n",
            "strong multicollinearity problems or that the design matrix is singular.\n"
          ]
        },
        {
          "output_type": "stream",
          "name": "stderr",
          "text": [
            "/usr/local/lib/python3.10/dist-packages/statsmodels/stats/outliers_influence.py:195: RuntimeWarning: divide by zero encountered in double_scalars\n",
            "  vif = 1. / (1. - r_squared_i)\n"
          ]
        }
      ]
    },
    {
      "cell_type": "code",
      "source": [
        "COLUMNS_FWD = ['Pts','passes','tackles','age','goals','dribbles','touches_att_pen_area','gca']\n",
        "COLUMNS_FWD += ['games_starts','age','CL','errors']\n",
        "COLUMNS_FWD += ['isLigue1']\n",
        "\n",
        "X = dataFWD[COLUMNS_FWD]\n",
        "y = np.log(dataFWD['value'])\n",
        "X = sm.add_constant(X)\n",
        "model = sm.OLS(y, X)\n",
        "\n",
        "results = model.fit()\n",
        "vif = pd.DataFrame()\n",
        "vif[\"VIF Factor\"] = [variance_inflation_factor(X.values, i) for i in range(X.shape[1])]\n",
        "vif[\"features\"] = X.columns\n",
        "# print(vif)\n",
        "print(results.summary())"
      ],
      "metadata": {
        "colab": {
          "base_uri": "https://localhost:8080/"
        },
        "id": "5oFgRuj10uvG",
        "outputId": "b321e71d-4307-4e95-b16b-347961b3b222"
      },
      "execution_count": null,
      "outputs": [
        {
          "output_type": "stream",
          "name": "stderr",
          "text": [
            "/usr/local/lib/python3.10/dist-packages/statsmodels/stats/outliers_influence.py:195: RuntimeWarning: divide by zero encountered in double_scalars\n",
            "  vif = 1. / (1. - r_squared_i)\n"
          ]
        },
        {
          "output_type": "stream",
          "name": "stdout",
          "text": [
            "                            OLS Regression Results                            \n",
            "==============================================================================\n",
            "Dep. Variable:                  value   R-squared:                       0.641\n",
            "Model:                            OLS   Adj. R-squared:                  0.637\n",
            "Method:                 Least Squares   F-statistic:                     141.0\n",
            "Date:                Sat, 27 May 2023   Prob (F-statistic):          5.11e-201\n",
            "Time:                        15:28:55   Log-Likelihood:                -948.44\n",
            "No. Observations:                 959   AIC:                             1923.\n",
            "Df Residuals:                     946   BIC:                             1986.\n",
            "Df Model:                          12                                         \n",
            "Covariance Type:            nonrobust                                         \n",
            "========================================================================================\n",
            "                           coef    std err          t      P>|t|      [0.025      0.975]\n",
            "----------------------------------------------------------------------------------------\n",
            "const                   16.2633      0.180     90.174      0.000      15.909      16.617\n",
            "Pts                      0.0203      0.002      9.949      0.000       0.016       0.024\n",
            "passes                   0.0003      0.000      2.365      0.018    5.72e-05       0.001\n",
            "tackles                 -0.0077      0.002     -3.279      0.001      -0.012      -0.003\n",
            "age                     -0.0421      0.003    -13.987      0.000      -0.048      -0.036\n",
            "goals                    0.0235      0.008      3.077      0.002       0.009       0.039\n",
            "dribbles                 0.0017      0.001      1.907      0.057   -5.01e-05       0.003\n",
            "touches_att_pen_area     0.0029      0.001      3.321      0.001       0.001       0.005\n",
            "gca                      0.0099      0.008      1.290      0.197      -0.005       0.025\n",
            "games_starts             0.0170      0.006      2.956      0.003       0.006       0.028\n",
            "age                     -0.0421      0.003    -13.987      0.000      -0.048      -0.036\n",
            "CL                       0.3827      0.081      4.747      0.000       0.224       0.541\n",
            "errors                  -0.0581      0.079     -0.736      0.462      -0.213       0.097\n",
            "isLigue1                -0.3401      0.057     -5.957      0.000      -0.452      -0.228\n",
            "==============================================================================\n",
            "Omnibus:                        0.099   Durbin-Watson:                   1.374\n",
            "Prob(Omnibus):                  0.952   Jarque-Bera (JB):                0.074\n",
            "Skew:                           0.021   Prob(JB):                        0.964\n",
            "Kurtosis:                       3.007   Cond. No.                     3.38e+18\n",
            "==============================================================================\n",
            "\n",
            "Notes:\n",
            "[1] Standard Errors assume that the covariance matrix of the errors is correctly specified.\n",
            "[2] The smallest eigenvalue is 3.33e-29. This might indicate that there are\n",
            "strong multicollinearity problems or that the design matrix is singular.\n"
          ]
        }
      ]
    },
    {
      "cell_type": "code",
      "source": [
        "COLUMNS_FWD = ['Pts','passes','tackles','age','goals','dribbles','touches_att_pen_area','gca']\n",
        "COLUMNS_FWD += ['games_starts','age','CL','errors']\n",
        "COLUMNS_FWD += ['isLaLiga']\n",
        "\n",
        "X = dataFWD[COLUMNS_FWD]\n",
        "y = np.log(dataFWD['value'])\n",
        "X = sm.add_constant(X)\n",
        "model = sm.OLS(y, X)\n",
        "\n",
        "results = model.fit()\n",
        "vif = pd.DataFrame()\n",
        "vif[\"VIF Factor\"] = [variance_inflation_factor(X.values, i) for i in range(X.shape[1])]\n",
        "vif[\"features\"] = X.columns\n",
        "# print(vif)\n",
        "print(results.summary())"
      ],
      "metadata": {
        "colab": {
          "base_uri": "https://localhost:8080/"
        },
        "id": "ubuLDtXG0vL-",
        "outputId": "8a39797f-42c8-4d7e-a5ef-cfa43cbb64f5"
      },
      "execution_count": null,
      "outputs": [
        {
          "output_type": "stream",
          "name": "stderr",
          "text": [
            "/usr/local/lib/python3.10/dist-packages/statsmodels/stats/outliers_influence.py:195: RuntimeWarning: divide by zero encountered in double_scalars\n",
            "  vif = 1. / (1. - r_squared_i)\n"
          ]
        },
        {
          "output_type": "stream",
          "name": "stdout",
          "text": [
            "                            OLS Regression Results                            \n",
            "==============================================================================\n",
            "Dep. Variable:                  value   R-squared:                       0.633\n",
            "Model:                            OLS   Adj. R-squared:                  0.628\n",
            "Method:                 Least Squares   F-statistic:                     135.7\n",
            "Date:                Sat, 27 May 2023   Prob (F-statistic):          4.53e-196\n",
            "Time:                        15:28:55   Log-Likelihood:                -960.05\n",
            "No. Observations:                 959   AIC:                             1946.\n",
            "Df Residuals:                     946   BIC:                             2009.\n",
            "Df Model:                          12                                         \n",
            "Covariance Type:            nonrobust                                         \n",
            "========================================================================================\n",
            "                           coef    std err          t      P>|t|      [0.025      0.975]\n",
            "----------------------------------------------------------------------------------------\n",
            "const                   16.0572      0.181     88.914      0.000      15.703      16.412\n",
            "Pts                      0.0220      0.002     10.679      0.000       0.018       0.026\n",
            "passes                   0.0004      0.000      2.444      0.015    6.92e-05       0.001\n",
            "tackles                 -0.0088      0.002     -3.670      0.000      -0.013      -0.004\n",
            "age                     -0.0399      0.003    -13.071      0.000      -0.046      -0.034\n",
            "goals                    0.0192      0.008      2.477      0.013       0.004       0.034\n",
            "dribbles                 0.0014      0.001      1.542      0.123      -0.000       0.003\n",
            "touches_att_pen_area     0.0031      0.001      3.392      0.001       0.001       0.005\n",
            "gca                      0.0084      0.008      1.085      0.278      -0.007       0.024\n",
            "games_starts             0.0198      0.006      3.354      0.001       0.008       0.031\n",
            "age                     -0.0399      0.003    -13.071      0.000      -0.046      -0.034\n",
            "CL                       0.3781      0.082      4.634      0.000       0.218       0.538\n",
            "errors                  -0.0546      0.080     -0.684      0.494      -0.211       0.102\n",
            "isLaLiga                -0.1774      0.051     -3.464      0.001      -0.278      -0.077\n",
            "==============================================================================\n",
            "Omnibus:                        4.972   Durbin-Watson:                   1.355\n",
            "Prob(Omnibus):                  0.083   Jarque-Bera (JB):                3.931\n",
            "Skew:                          -0.038   Prob(JB):                        0.140\n",
            "Kurtosis:                       2.696   Cond. No.                     2.90e+18\n",
            "==============================================================================\n",
            "\n",
            "Notes:\n",
            "[1] Standard Errors assume that the covariance matrix of the errors is correctly specified.\n",
            "[2] The smallest eigenvalue is 4.54e-29. This might indicate that there are\n",
            "strong multicollinearity problems or that the design matrix is singular.\n"
          ]
        }
      ]
    },
    {
      "cell_type": "code",
      "source": [
        "COLUMNS_FWD = ['Pts','passes','tackles','age','goals','dribbles','touches_att_pen_area','gca']\n",
        "COLUMNS_FWD += ['games_starts','age','CL','errors']\n",
        "COLUMNS_FWD += ['isBundesliga']\n",
        "\n",
        "X = dataFWD[COLUMNS_FWD]\n",
        "y = np.log(dataFWD['value'])\n",
        "X = sm.add_constant(X)\n",
        "model = sm.OLS(y, X)\n",
        "\n",
        "results = model.fit()\n",
        "vif = pd.DataFrame()\n",
        "vif[\"VIF Factor\"] = [variance_inflation_factor(X.values, i) for i in range(X.shape[1])]\n",
        "vif[\"features\"] = X.columns\n",
        "# print(vif)\n",
        "print(results.summary())"
      ],
      "metadata": {
        "colab": {
          "base_uri": "https://localhost:8080/"
        },
        "id": "hmn6wJYC0vwv",
        "outputId": "c24c4b18-0e01-4169-91bf-302acb1e549f"
      },
      "execution_count": null,
      "outputs": [
        {
          "output_type": "stream",
          "name": "stdout",
          "text": [
            "                            OLS Regression Results                            \n",
            "==============================================================================\n",
            "Dep. Variable:                  value   R-squared:                       0.629\n",
            "Model:                            OLS   Adj. R-squared:                  0.624\n",
            "Method:                 Least Squares   F-statistic:                     133.5\n",
            "Date:                Sat, 27 May 2023   Prob (F-statistic):          5.87e-194\n",
            "Time:                        15:28:55   Log-Likelihood:                -965.02\n",
            "No. Observations:                 959   AIC:                             1956.\n",
            "Df Residuals:                     946   BIC:                             2019.\n",
            "Df Model:                          12                                         \n",
            "Covariance Type:            nonrobust                                         \n",
            "========================================================================================\n",
            "                           coef    std err          t      P>|t|      [0.025      0.975]\n",
            "----------------------------------------------------------------------------------------\n",
            "const                   16.1533      0.186     86.997      0.000      15.789      16.518\n",
            "Pts                      0.0210      0.002     10.088      0.000       0.017       0.025\n",
            "passes                   0.0003      0.000      2.409      0.016    6.45e-05       0.001\n",
            "tackles                 -0.0079      0.002     -3.296      0.001      -0.013      -0.003\n",
            "age                     -0.0415      0.003    -13.492      0.000      -0.048      -0.035\n",
            "goals                    0.0217      0.008      2.783      0.005       0.006       0.037\n",
            "dribbles                 0.0012      0.001      1.269      0.205      -0.001       0.003\n",
            "touches_att_pen_area     0.0033      0.001      3.665      0.000       0.002       0.005\n",
            "gca                      0.0107      0.008      1.372      0.170      -0.005       0.026\n",
            "games_starts             0.0167      0.006      2.851      0.004       0.005       0.028\n",
            "age                     -0.0415      0.003    -13.492      0.000      -0.048      -0.035\n",
            "CL                       0.3900      0.083      4.724      0.000       0.228       0.552\n",
            "errors                  -0.0520      0.080     -0.647      0.518      -0.210       0.106\n",
            "isBundesliga            -0.0853      0.058     -1.461      0.144      -0.200       0.029\n",
            "==============================================================================\n",
            "Omnibus:                        3.655   Durbin-Watson:                   1.350\n",
            "Prob(Omnibus):                  0.161   Jarque-Bera (JB):                3.159\n",
            "Skew:                          -0.056   Prob(JB):                        0.206\n",
            "Kurtosis:                       2.742   Cond. No.                     3.09e+18\n",
            "==============================================================================\n",
            "\n",
            "Notes:\n",
            "[1] Standard Errors assume that the covariance matrix of the errors is correctly specified.\n",
            "[2] The smallest eigenvalue is  4e-29. This might indicate that there are\n",
            "strong multicollinearity problems or that the design matrix is singular.\n"
          ]
        },
        {
          "output_type": "stream",
          "name": "stderr",
          "text": [
            "/usr/local/lib/python3.10/dist-packages/statsmodels/stats/outliers_influence.py:195: RuntimeWarning: divide by zero encountered in double_scalars\n",
            "  vif = 1. / (1. - r_squared_i)\n"
          ]
        }
      ]
    },
    {
      "cell_type": "markdown",
      "source": [
        "# MID"
      ],
      "metadata": {
        "id": "00I04C6tWe0g"
      }
    },
    {
      "cell_type": "code",
      "source": [
        "dataMID = data201920_df[data201920_df['position2'].str[:10]=='Midfielder']\n",
        "# dataMID.head()"
      ],
      "metadata": {
        "id": "k9X4yxQsLjH7"
      },
      "execution_count": null,
      "outputs": []
    },
    {
      "cell_type": "code",
      "source": [
        "COLUMNS_MID = ['assists', 'carries','miscontrols','passes_completed_short', 'passes_intercepted','pressures_att_3rd', 'through_balls' ,'progressive_passes', 'passes_into_penalty_area']\n",
        "X = dataMID[COLUMNS_MID]\n",
        "y = np.log(dataMID['value'])\n",
        "\n",
        "X = sm.add_constant(X)\n",
        "model = sm.OLS(y, X)\n",
        "\n",
        "results = model.fit()\n",
        "vif = pd.DataFrame()\n",
        "vif[\"VIF Factor\"] = [variance_inflation_factor(X.values, i) for i in range(X.shape[1])]\n",
        "vif[\"features\"] = X.columns\n",
        "print(vif)\n",
        "vif[vif[\"VIF Factor\"] > 10]\n",
        "print(results.summary())"
      ],
      "metadata": {
        "colab": {
          "base_uri": "https://localhost:8080/"
        },
        "id": "bXZub10BFgRc",
        "outputId": "2df34767-8f48-441f-aa23-40c4470f86b6"
      },
      "execution_count": null,
      "outputs": [
        {
          "output_type": "stream",
          "name": "stdout",
          "text": [
            "   VIF Factor                  features\n",
            "0    4.191594                     const\n",
            "1    2.161246                   assists\n",
            "2   13.824149                   carries\n",
            "3    3.388560               miscontrols\n",
            "4    8.799036    passes_completed_short\n",
            "5    3.972132        passes_intercepted\n",
            "6    3.162704         pressures_att_3rd\n",
            "7    2.111072             through_balls\n",
            "8    8.156643        progressive_passes\n",
            "9    4.517333  passes_into_penalty_area\n",
            "                            OLS Regression Results                            \n",
            "==============================================================================\n",
            "Dep. Variable:                  value   R-squared:                       0.327\n",
            "Model:                            OLS   Adj. R-squared:                  0.320\n",
            "Method:                 Least Squares   F-statistic:                     50.73\n",
            "Date:                Sat, 27 May 2023   Prob (F-statistic):           6.19e-75\n",
            "Time:                        15:28:55   Log-Likelihood:                -1189.3\n",
            "No. Observations:                 950   AIC:                             2399.\n",
            "Df Residuals:                     940   BIC:                             2447.\n",
            "Df Model:                           9                                         \n",
            "Covariance Type:            nonrobust                                         \n",
            "============================================================================================\n",
            "                               coef    std err          t      P>|t|      [0.025      0.975]\n",
            "--------------------------------------------------------------------------------------------\n",
            "const                       15.1158      0.057    267.504      0.000      15.005      15.227\n",
            "assists                      0.0194      0.018      1.074      0.283      -0.016       0.055\n",
            "carries                      0.0007      0.000      3.287      0.001       0.000       0.001\n",
            "miscontrols                 -0.0065      0.003     -1.969      0.049      -0.013    -2.1e-05\n",
            "passes_completed_short       0.0015      0.000      3.841      0.000       0.001       0.002\n",
            "passes_intercepted          -0.0078      0.005     -1.455      0.146      -0.018       0.003\n",
            "pressures_att_3rd            0.0012      0.001      1.162      0.246      -0.001       0.003\n",
            "through_balls                0.0622      0.013      4.740      0.000       0.036       0.088\n",
            "progressive_passes          -0.0046      0.001     -3.091      0.002      -0.008      -0.002\n",
            "passes_into_penalty_area     0.0085      0.004      2.041      0.042       0.000       0.017\n",
            "==============================================================================\n",
            "Omnibus:                       37.204   Durbin-Watson:                   1.374\n",
            "Prob(Omnibus):                  0.000   Jarque-Bera (JB):               16.871\n",
            "Skew:                           0.050   Prob(JB):                     0.000217\n",
            "Kurtosis:                       2.355   Cond. No.                     2.01e+03\n",
            "==============================================================================\n",
            "\n",
            "Notes:\n",
            "[1] Standard Errors assume that the covariance matrix of the errors is correctly specified.\n",
            "[2] The condition number is large, 2.01e+03. This might indicate that there are\n",
            "strong multicollinearity or other numerical problems.\n"
          ]
        }
      ]
    },
    {
      "cell_type": "code",
      "source": [
        "COLUMNS_MID = ['foot_left','assists', 'carries', 'passes_intercepted','pressures_att_3rd', 'through_balls' ,'progressive_passes', 'passes_into_penalty_area']\n",
        "COLUMNS_MID += ['tackles_won', 'goals', 'Pts','passes_completed_short', 'passes_into_final_third']\n",
        "X = dataMID[COLUMNS_MID]\n",
        "y = np.log(dataMID['value'])\n",
        "result = stepwise_selection(X, y, COLUMNS_MID)\n",
        "print(result)"
      ],
      "metadata": {
        "colab": {
          "base_uri": "https://localhost:8080/"
        },
        "id": "j2SrYC7IW8fb",
        "outputId": "b9b414c5-541a-4ed4-91c5-75cfa4bdda99"
      },
      "execution_count": null,
      "outputs": [
        {
          "output_type": "stream",
          "name": "stdout",
          "text": [
            "刪除特徵：                   1，P-value：0.7185618300\n",
            "刪除特徵：                   7，P-value：0.7080792226\n",
            "刪除特徵：                   9，P-value：0.5003918749\n",
            "刪除特徵：                   0，P-value：0.3977530022\n",
            "刪除特徵：                   1，P-value：0.2750995298\n",
            "刪除特徵：                   1，P-value：0.1856517123\n",
            "刪除特徵：                   6，P-value：0.0722653664\n",
            "刪除特徵：                   3，P-value：0.1415261824\n",
            "刪除特徵：                   2，P-value：0.2827651125\n",
            "['carries', 'through_balls', 'goals', 'Pts']\n"
          ]
        }
      ]
    },
    {
      "cell_type": "code",
      "source": [
        "result += ['assists','passes']\n",
        "result += ['games_starts','age','CL','errors']\n",
        "\n",
        "X = dataMID[result]\n",
        "X = sm.add_constant(X)\n",
        "model = sm.OLS(y, X)\n",
        "results = model.fit()\n",
        "vif = pd.DataFrame()\n",
        "vif[\"VIF Factor\"] = [variance_inflation_factor(X.values, i) for i in range(X.shape[1])]\n",
        "vif[\"features\"] = X.columns\n",
        "# print(vif)\n",
        "\n",
        "print(results.summary())"
      ],
      "metadata": {
        "colab": {
          "base_uri": "https://localhost:8080/"
        },
        "id": "7cak6cSUXIqX",
        "outputId": "7081a5af-085f-41c6-d33e-436fc6a341b4"
      },
      "execution_count": null,
      "outputs": [
        {
          "output_type": "stream",
          "name": "stdout",
          "text": [
            "                            OLS Regression Results                            \n",
            "==============================================================================\n",
            "Dep. Variable:                  value   R-squared:                       0.586\n",
            "Model:                            OLS   Adj. R-squared:                  0.581\n",
            "Method:                 Least Squares   F-statistic:                     132.8\n",
            "Date:                Sat, 27 May 2023   Prob (F-statistic):          5.02e-172\n",
            "Time:                        15:28:56   Log-Likelihood:                -958.80\n",
            "No. Observations:                 950   AIC:                             1940.\n",
            "Df Residuals:                     939   BIC:                             1993.\n",
            "Df Model:                          10                                         \n",
            "Covariance Type:            nonrobust                                         \n",
            "=================================================================================\n",
            "                    coef    std err          t      P>|t|      [0.025      0.975]\n",
            "---------------------------------------------------------------------------------\n",
            "const            15.9606      0.172     92.931      0.000      15.624      16.298\n",
            "carries           0.0005      0.000      2.612      0.009       0.000       0.001\n",
            "through_balls     0.0280      0.010      2.833      0.005       0.009       0.047\n",
            "goals             0.0557      0.012      4.779      0.000       0.033       0.079\n",
            "Pts               0.0256      0.002     12.902      0.000       0.022       0.030\n",
            "assists          -0.0001      0.013     -0.008      0.994      -0.026       0.026\n",
            "passes            0.0001      0.000      0.822      0.411      -0.000       0.000\n",
            "games_starts      0.0063      0.005      1.191      0.234      -0.004       0.017\n",
            "age              -0.0849      0.006    -14.309      0.000      -0.097      -0.073\n",
            "CL                0.1747      0.080      2.175      0.030       0.017       0.332\n",
            "errors            0.0026      0.040      0.065      0.948      -0.076       0.081\n",
            "==============================================================================\n",
            "Omnibus:                        4.343   Durbin-Watson:                   1.490\n",
            "Prob(Omnibus):                  0.114   Jarque-Bera (JB):                3.520\n",
            "Skew:                           0.037   Prob(JB):                        0.172\n",
            "Kurtosis:                       2.711   Cond. No.                     1.12e+04\n",
            "==============================================================================\n",
            "\n",
            "Notes:\n",
            "[1] Standard Errors assume that the covariance matrix of the errors is correctly specified.\n",
            "[2] The condition number is large, 1.12e+04. This might indicate that there are\n",
            "strong multicollinearity or other numerical problems.\n"
          ]
        }
      ]
    },
    {
      "cell_type": "markdown",
      "source": [
        "# **固定效果**"
      ],
      "metadata": {
        "id": "XL_UEcB2ru2O"
      }
    },
    {
      "cell_type": "code",
      "source": [
        "COLUMNS_MID = ['carries','pressures_att_3rd','through_balls', 'goals','Pts','assists','passes']\n",
        "COLUMNS_MID += ['games_starts','age','CL','errors']\n",
        "COLUMNS_MID += ['isSerieA']\n",
        "X = dataMID[COLUMNS_MID]\n",
        "y = np.log(dataMID['value'])\n",
        "\n",
        "X = sm.add_constant(X)\n",
        "model = sm.OLS(y, X)\n",
        "\n",
        "results = model.fit()\n",
        "vif = pd.DataFrame()\n",
        "vif[\"VIF Factor\"] = [variance_inflation_factor(X.values, i) for i in range(X.shape[1])]\n",
        "vif[\"features\"] = X.columns\n",
        "# print(vif)\n",
        "vif[vif[\"VIF Factor\"] > 10]\n",
        "print(results.summary())"
      ],
      "metadata": {
        "colab": {
          "base_uri": "https://localhost:8080/"
        },
        "id": "Yr4p5q9yruhx",
        "outputId": "40e2cfad-178f-4e16-ed44-5989d1c1b8dc"
      },
      "execution_count": null,
      "outputs": [
        {
          "output_type": "stream",
          "name": "stdout",
          "text": [
            "                            OLS Regression Results                            \n",
            "==============================================================================\n",
            "Dep. Variable:                  value   R-squared:                       0.590\n",
            "Model:                            OLS   Adj. R-squared:                  0.585\n",
            "Method:                 Least Squares   F-statistic:                     112.4\n",
            "Date:                Sat, 27 May 2023   Prob (F-statistic):          5.34e-172\n",
            "Time:                        15:28:56   Log-Likelihood:                -953.87\n",
            "No. Observations:                 950   AIC:                             1934.\n",
            "Df Residuals:                     937   BIC:                             1997.\n",
            "Df Model:                          12                                         \n",
            "Covariance Type:            nonrobust                                         \n",
            "=====================================================================================\n",
            "                        coef    std err          t      P>|t|      [0.025      0.975]\n",
            "-------------------------------------------------------------------------------------\n",
            "const                15.9410      0.172     92.719      0.000      15.604      16.278\n",
            "carries               0.0005      0.000      2.669      0.008       0.000       0.001\n",
            "pressures_att_3rd     0.0004      0.001      0.577      0.564      -0.001       0.002\n",
            "through_balls         0.0248      0.010      2.485      0.013       0.005       0.044\n",
            "goals                 0.0537      0.012      4.467      0.000       0.030       0.077\n",
            "Pts                   0.0260      0.002     13.141      0.000       0.022       0.030\n",
            "assists               0.0016      0.013      0.119      0.905      -0.025       0.028\n",
            "passes                0.0001      0.000      0.685      0.494      -0.000       0.000\n",
            "games_starts          0.0056      0.006      0.970      0.332      -0.006       0.017\n",
            "age                  -0.0834      0.006    -14.034      0.000      -0.095      -0.072\n",
            "CL                    0.1587      0.080      1.976      0.049       0.001       0.316\n",
            "errors                0.0091      0.040      0.228      0.820      -0.069       0.087\n",
            "isSerieA             -0.1601      0.052     -3.093      0.002      -0.262      -0.059\n",
            "==============================================================================\n",
            "Omnibus:                        4.498   Durbin-Watson:                   1.505\n",
            "Prob(Omnibus):                  0.106   Jarque-Bera (JB):                3.603\n",
            "Skew:                           0.032   Prob(JB):                        0.165\n",
            "Kurtosis:                       2.705   Cond. No.                     1.13e+04\n",
            "==============================================================================\n",
            "\n",
            "Notes:\n",
            "[1] Standard Errors assume that the covariance matrix of the errors is correctly specified.\n",
            "[2] The condition number is large, 1.13e+04. This might indicate that there are\n",
            "strong multicollinearity or other numerical problems.\n"
          ]
        }
      ]
    },
    {
      "cell_type": "code",
      "source": [
        "COLUMNS_MID = ['carries','pressures_att_3rd','through_balls', 'goals','Pts','assists','passes']\n",
        "COLUMNS_MID += ['games_starts','age','CL','errors']\n",
        "COLUMNS_MID += ['isPremierLeague']\n",
        "X = dataMID[COLUMNS_MID]\n",
        "y = np.log(dataMID['value'])\n",
        "\n",
        "X = sm.add_constant(X)\n",
        "model = sm.OLS(y, X)\n",
        "\n",
        "results = model.fit()\n",
        "vif = pd.DataFrame()\n",
        "vif[\"VIF Factor\"] = [variance_inflation_factor(X.values, i) for i in range(X.shape[1])]\n",
        "vif[\"features\"] = X.columns\n",
        "# print(vif)\n",
        "vif[vif[\"VIF Factor\"] > 10]\n",
        "print(results.summary())"
      ],
      "metadata": {
        "colab": {
          "base_uri": "https://localhost:8080/"
        },
        "id": "1rjbESSus5t3",
        "outputId": "fbeceace-bee1-4b21-aba4-5c3741deebc3"
      },
      "execution_count": null,
      "outputs": [
        {
          "output_type": "stream",
          "name": "stdout",
          "text": [
            "                            OLS Regression Results                            \n",
            "==============================================================================\n",
            "Dep. Variable:                  value   R-squared:                       0.619\n",
            "Model:                            OLS   Adj. R-squared:                  0.614\n",
            "Method:                 Least Squares   F-statistic:                     127.0\n",
            "Date:                Sat, 27 May 2023   Prob (F-statistic):          5.67e-187\n",
            "Time:                        15:28:56   Log-Likelihood:                -918.67\n",
            "No. Observations:                 950   AIC:                             1863.\n",
            "Df Residuals:                     937   BIC:                             1926.\n",
            "Df Model:                          12                                         \n",
            "Covariance Type:            nonrobust                                         \n",
            "=====================================================================================\n",
            "                        coef    std err          t      P>|t|      [0.025      0.975]\n",
            "-------------------------------------------------------------------------------------\n",
            "const                15.9838      0.166     96.480      0.000      15.659      16.309\n",
            "carries               0.0005      0.000      3.122      0.002       0.000       0.001\n",
            "pressures_att_3rd  1.536e-05      0.001      0.022      0.982      -0.001       0.001\n",
            "through_balls         0.0205      0.010      2.132      0.033       0.002       0.039\n",
            "goals                 0.0560      0.012      4.831      0.000       0.033       0.079\n",
            "Pts                   0.0237      0.002     12.381      0.000       0.020       0.027\n",
            "assists               0.0097      0.013      0.749      0.454      -0.016       0.035\n",
            "passes             5.155e-05      0.000      0.346      0.729      -0.000       0.000\n",
            "games_starts          0.0066      0.006      1.201      0.230      -0.004       0.018\n",
            "age                  -0.0869      0.006    -15.183      0.000      -0.098      -0.076\n",
            "CL                    0.2434      0.078      3.133      0.002       0.091       0.396\n",
            "errors                0.0008      0.038      0.021      0.983      -0.075       0.076\n",
            "isPremierLeague       0.4511      0.050      9.077      0.000       0.354       0.549\n",
            "==============================================================================\n",
            "Omnibus:                        1.027   Durbin-Watson:                   1.573\n",
            "Prob(Omnibus):                  0.598   Jarque-Bera (JB):                1.110\n",
            "Skew:                           0.063   Prob(JB):                        0.574\n",
            "Kurtosis:                       2.889   Cond. No.                     1.13e+04\n",
            "==============================================================================\n",
            "\n",
            "Notes:\n",
            "[1] Standard Errors assume that the covariance matrix of the errors is correctly specified.\n",
            "[2] The condition number is large, 1.13e+04. This might indicate that there are\n",
            "strong multicollinearity or other numerical problems.\n"
          ]
        }
      ]
    },
    {
      "cell_type": "code",
      "source": [
        "COLUMNS_MID = ['carries','pressures_att_3rd','through_balls', 'goals','Pts','assists','passes']\n",
        "COLUMNS_MID += ['games_starts','age','CL','errors']\n",
        "COLUMNS_MID += ['isLigue1']\n",
        "X = dataMID[COLUMNS_MID]\n",
        "y = np.log(dataMID['value'])\n",
        "\n",
        "X = sm.add_constant(X)\n",
        "model = sm.OLS(y, X)\n",
        "\n",
        "results = model.fit()\n",
        "vif = pd.DataFrame()\n",
        "vif[\"VIF Factor\"] = [variance_inflation_factor(X.values, i) for i in range(X.shape[1])]\n",
        "vif[\"features\"] = X.columns\n",
        "# print(vif)\n",
        "vif[vif[\"VIF Factor\"] > 10]\n",
        "print(results.summary())"
      ],
      "metadata": {
        "colab": {
          "base_uri": "https://localhost:8080/"
        },
        "id": "M3cngjj7s5n9",
        "outputId": "288a218f-ea9b-4c95-9ad3-758c6c60cc3e"
      },
      "execution_count": null,
      "outputs": [
        {
          "output_type": "stream",
          "name": "stdout",
          "text": [
            "                            OLS Regression Results                            \n",
            "==============================================================================\n",
            "Dep. Variable:                  value   R-squared:                       0.596\n",
            "Model:                            OLS   Adj. R-squared:                  0.591\n",
            "Method:                 Least Squares   F-statistic:                     115.3\n",
            "Date:                Sat, 27 May 2023   Prob (F-statistic):          4.05e-175\n",
            "Time:                        15:28:57   Log-Likelihood:                -946.53\n",
            "No. Observations:                 950   AIC:                             1919.\n",
            "Df Residuals:                     937   BIC:                             1982.\n",
            "Df Model:                          12                                         \n",
            "Covariance Type:            nonrobust                                         \n",
            "=====================================================================================\n",
            "                        coef    std err          t      P>|t|      [0.025      0.975]\n",
            "-------------------------------------------------------------------------------------\n",
            "const                16.1403      0.175     92.358      0.000      15.797      16.483\n",
            "carries               0.0006      0.000      3.085      0.002       0.000       0.001\n",
            "pressures_att_3rd     0.0003      0.001      0.410      0.682      -0.001       0.002\n",
            "through_balls         0.0272      0.010      2.755      0.006       0.008       0.047\n",
            "goals                 0.0544      0.012      4.562      0.000       0.031       0.078\n",
            "Pts                   0.0247      0.002     12.549      0.000       0.021       0.029\n",
            "assists              -0.0013      0.013     -0.098      0.922      -0.027       0.025\n",
            "passes             9.604e-05      0.000      0.626      0.531      -0.000       0.000\n",
            "games_starts          0.0033      0.006      0.585      0.558      -0.008       0.015\n",
            "age                  -0.0881      0.006    -14.868      0.000      -0.100      -0.076\n",
            "CL                    0.1624      0.080      2.040      0.042       0.006       0.319\n",
            "errors               -0.0066      0.040     -0.166      0.869      -0.084       0.071\n",
            "isLigue1             -0.2859      0.058     -4.930      0.000      -0.400      -0.172\n",
            "==============================================================================\n",
            "Omnibus:                        0.855   Durbin-Watson:                   1.537\n",
            "Prob(Omnibus):                  0.652   Jarque-Bera (JB):                0.921\n",
            "Skew:                           0.068   Prob(JB):                        0.631\n",
            "Kurtosis:                       2.931   Cond. No.                     1.15e+04\n",
            "==============================================================================\n",
            "\n",
            "Notes:\n",
            "[1] Standard Errors assume that the covariance matrix of the errors is correctly specified.\n",
            "[2] The condition number is large, 1.15e+04. This might indicate that there are\n",
            "strong multicollinearity or other numerical problems.\n"
          ]
        }
      ]
    },
    {
      "cell_type": "code",
      "source": [
        "COLUMNS_MID = ['carries','pressures_att_3rd','through_balls', 'goals','Pts','assists','passes']\n",
        "COLUMNS_MID += ['games_starts','age','CL','errors']\n",
        "COLUMNS_MID += ['isLaLiga']\n",
        "X = dataMID[COLUMNS_MID]\n",
        "y = np.log(dataMID['value'])\n",
        "\n",
        "X = sm.add_constant(X)\n",
        "model = sm.OLS(y, X)\n",
        "\n",
        "results = model.fit()\n",
        "vif = pd.DataFrame()\n",
        "vif[\"VIF Factor\"] = [variance_inflation_factor(X.values, i) for i in range(X.shape[1])]\n",
        "vif[\"features\"] = X.columns\n",
        "# print(vif)\n",
        "vif[vif[\"VIF Factor\"] > 10]\n",
        "print(results.summary())"
      ],
      "metadata": {
        "colab": {
          "base_uri": "https://localhost:8080/"
        },
        "id": "OxeuqfrJs61u",
        "outputId": "d1a2a6e5-0dfc-4dc4-c535-dbd3db2fc39d"
      },
      "execution_count": null,
      "outputs": [
        {
          "output_type": "stream",
          "name": "stdout",
          "text": [
            "                            OLS Regression Results                            \n",
            "==============================================================================\n",
            "Dep. Variable:                  value   R-squared:                       0.587\n",
            "Model:                            OLS   Adj. R-squared:                  0.581\n",
            "Method:                 Least Squares   F-statistic:                     110.8\n",
            "Date:                Sat, 27 May 2023   Prob (F-statistic):          2.24e-170\n",
            "Time:                        15:28:57   Log-Likelihood:                -957.69\n",
            "No. Observations:                 950   AIC:                             1941.\n",
            "Df Residuals:                     937   BIC:                             2005.\n",
            "Df Model:                          12                                         \n",
            "Covariance Type:            nonrobust                                         \n",
            "=====================================================================================\n",
            "                        coef    std err          t      P>|t|      [0.025      0.975]\n",
            "-------------------------------------------------------------------------------------\n",
            "const                15.9489      0.173     92.404      0.000      15.610      16.288\n",
            "carries               0.0005      0.000      2.499      0.013    9.82e-05       0.001\n",
            "pressures_att_3rd     0.0003      0.001      0.432      0.666      -0.001       0.002\n",
            "through_balls         0.0278      0.010      2.780      0.006       0.008       0.047\n",
            "goals                 0.0535      0.012      4.426      0.000       0.030       0.077\n",
            "Pts                   0.0257      0.002     12.925      0.000       0.022       0.030\n",
            "assists              -0.0027      0.013     -0.202      0.840      -0.029       0.024\n",
            "passes                0.0001      0.000      0.939      0.348      -0.000       0.000\n",
            "games_starts          0.0057      0.006      0.980      0.327      -0.006       0.017\n",
            "age                  -0.0842      0.006    -14.113      0.000      -0.096      -0.072\n",
            "CL                    0.1731      0.081      2.149      0.032       0.015       0.331\n",
            "errors                0.0037      0.040      0.094      0.925      -0.075       0.082\n",
            "isLaLiga             -0.0800      0.057     -1.412      0.158      -0.191       0.031\n",
            "==============================================================================\n",
            "Omnibus:                        4.888   Durbin-Watson:                   1.495\n",
            "Prob(Omnibus):                  0.087   Jarque-Bera (JB):                3.917\n",
            "Skew:                           0.047   Prob(JB):                        0.141\n",
            "Kurtosis:                       2.700   Cond. No.                     1.13e+04\n",
            "==============================================================================\n",
            "\n",
            "Notes:\n",
            "[1] Standard Errors assume that the covariance matrix of the errors is correctly specified.\n",
            "[2] The condition number is large, 1.13e+04. This might indicate that there are\n",
            "strong multicollinearity or other numerical problems.\n"
          ]
        }
      ]
    },
    {
      "cell_type": "code",
      "source": [
        "COLUMNS_MID = ['carries','pressures_att_3rd','through_balls', 'goals','Pts','assists','passes']\n",
        "COLUMNS_MID += ['games_starts','age','CL','errors']\n",
        "COLUMNS_MID += ['isBundesliga']\n",
        "X = dataMID[COLUMNS_MID]\n",
        "y = np.log(dataMID['value'])\n",
        "\n",
        "X = sm.add_constant(X)\n",
        "model = sm.OLS(y, X)\n",
        "\n",
        "results = model.fit()\n",
        "vif = pd.DataFrame()\n",
        "vif[\"VIF Factor\"] = [variance_inflation_factor(X.values, i) for i in range(X.shape[1])]\n",
        "vif[\"features\"] = X.columns\n",
        "# print(vif)\n",
        "vif[vif[\"VIF Factor\"] > 10]\n",
        "print(results.summary())"
      ],
      "metadata": {
        "colab": {
          "base_uri": "https://localhost:8080/"
        },
        "id": "EVue8K44s7Wt",
        "outputId": "51b847f5-9d28-46c2-cae4-207f8f5fac66"
      },
      "execution_count": null,
      "outputs": [
        {
          "output_type": "stream",
          "name": "stdout",
          "text": [
            "                            OLS Regression Results                            \n",
            "==============================================================================\n",
            "Dep. Variable:                  value   R-squared:                       0.586\n",
            "Model:                            OLS   Adj. R-squared:                  0.581\n",
            "Method:                 Least Squares   F-statistic:                     110.4\n",
            "Date:                Sat, 27 May 2023   Prob (F-statistic):          6.01e-170\n",
            "Time:                        15:28:57   Log-Likelihood:                -958.70\n",
            "No. Observations:                 950   AIC:                             1943.\n",
            "Df Residuals:                     937   BIC:                             2007.\n",
            "Df Model:                          12                                         \n",
            "Covariance Type:            nonrobust                                         \n",
            "=====================================================================================\n",
            "                        coef    std err          t      P>|t|      [0.025      0.975]\n",
            "-------------------------------------------------------------------------------------\n",
            "const                15.9547      0.176     90.823      0.000      15.610      16.299\n",
            "carries               0.0005      0.000      2.525      0.012       0.000       0.001\n",
            "pressures_att_3rd     0.0003      0.001      0.452      0.651      -0.001       0.002\n",
            "through_balls         0.0272      0.010      2.722      0.007       0.008       0.047\n",
            "goals                 0.0544      0.012      4.485      0.000       0.031       0.078\n",
            "Pts                   0.0256      0.002     12.780      0.000       0.022       0.030\n",
            "assists              -0.0011      0.014     -0.079      0.937      -0.028       0.025\n",
            "passes                0.0001      0.000      0.905      0.366      -0.000       0.000\n",
            "games_starts          0.0052      0.006      0.900      0.368      -0.006       0.017\n",
            "age                  -0.0847      0.006    -14.177      0.000      -0.096      -0.073\n",
            "CL                    0.1729      0.082      2.106      0.035       0.012       0.334\n",
            "errors                0.0039      0.040      0.097      0.923      -0.075       0.082\n",
            "isBundesliga         -0.0036      0.060     -0.061      0.951      -0.121       0.113\n",
            "==============================================================================\n",
            "Omnibus:                        4.387   Durbin-Watson:                   1.494\n",
            "Prob(Omnibus):                  0.112   Jarque-Bera (JB):                3.560\n",
            "Skew:                           0.040   Prob(JB):                        0.169\n",
            "Kurtosis:                       2.711   Cond. No.                     1.15e+04\n",
            "==============================================================================\n",
            "\n",
            "Notes:\n",
            "[1] Standard Errors assume that the covariance matrix of the errors is correctly specified.\n",
            "[2] The condition number is large, 1.15e+04. This might indicate that there are\n",
            "strong multicollinearity or other numerical problems.\n"
          ]
        }
      ]
    },
    {
      "cell_type": "markdown",
      "source": [
        "# DEF"
      ],
      "metadata": {
        "id": "IUNSUTurWmoG"
      }
    },
    {
      "cell_type": "code",
      "source": [
        "dataDEF = data201920_df[data201920_df['position2'].str[:8]=='Defender']\n",
        "# dataDEF.head()"
      ],
      "metadata": {
        "id": "2p7fSgm_G5tQ"
      },
      "execution_count": null,
      "outputs": []
    },
    {
      "cell_type": "code",
      "source": [
        "# COLUMNS_DEF = ['games_starts','age','CL','errors',]\n",
        "COLUMNS_DEF = ['games_starts','age','CL','errors','clearances','passes_ground','touches_att_pen_area','touches_def_pen_area','aerials_won_pct']\n",
        "X = dataDEF[COLUMNS_DEF]\n",
        "# print(X['carries'])\n",
        "# X.insert(0, 'age', dataDEF['age']**2)\n",
        "y = np.log(dataDEF['value'])\n",
        "X = sm.add_constant(X)\n",
        "model = sm.OLS(y, X)\n",
        "\n",
        "results = model.fit()\n",
        "vif = pd.DataFrame()\n",
        "vif[\"VIF Factor\"] = [variance_inflation_factor(X.values, i) for i in range(X.shape[1])]\n",
        "vif[\"features\"] = X.columns\n",
        "print(vif)\n",
        "print(results.summary())"
      ],
      "metadata": {
        "colab": {
          "base_uri": "https://localhost:8080/"
        },
        "id": "mvvk10CDG5tS",
        "outputId": "18c36f36-6f8a-4949-b430-251884eebbcc"
      },
      "execution_count": null,
      "outputs": [
        {
          "output_type": "stream",
          "name": "stdout",
          "text": [
            "   VIF Factor              features\n",
            "0   69.611738                 const\n",
            "1    5.059356          games_starts\n",
            "2    1.038955                   age\n",
            "3    1.420608                    CL\n",
            "4    1.275109                errors\n",
            "5    4.892414            clearances\n",
            "6    3.669299         passes_ground\n",
            "7    1.840507  touches_att_pen_area\n",
            "8    5.785260  touches_def_pen_area\n",
            "9    1.258885       aerials_won_pct\n",
            "                            OLS Regression Results                            \n",
            "==============================================================================\n",
            "Dep. Variable:                  value   R-squared:                       0.535\n",
            "Model:                            OLS   Adj. R-squared:                  0.532\n",
            "Method:                 Least Squares   F-statistic:                     199.9\n",
            "Date:                Sat, 27 May 2023   Prob (F-statistic):          1.02e-252\n",
            "Time:                        15:28:57   Log-Likelihood:                -1598.4\n",
            "No. Observations:                1576   AIC:                             3217.\n",
            "Df Residuals:                    1566   BIC:                             3270.\n",
            "Df Model:                           9                                         \n",
            "Covariance Type:            nonrobust                                         \n",
            "========================================================================================\n",
            "                           coef    std err          t      P>|t|      [0.025      0.975]\n",
            "----------------------------------------------------------------------------------------\n",
            "const                   16.7727      0.141    119.243      0.000      16.497      17.049\n",
            "games_starts            -0.0235      0.004     -5.720      0.000      -0.032      -0.015\n",
            "age                     -0.0816      0.005    -17.227      0.000      -0.091      -0.072\n",
            "CL                       0.8336      0.049     16.973      0.000       0.737       0.930\n",
            "errors                  -0.0202      0.018     -1.109      0.268      -0.056       0.016\n",
            "clearances               0.0015      0.001      2.206      0.028       0.000       0.003\n",
            "passes_ground            0.0010   7.96e-05     12.286      0.000       0.001       0.001\n",
            "touches_att_pen_area     0.0136      0.001     10.945      0.000       0.011       0.016\n",
            "touches_def_pen_area     0.0014      0.001      2.701      0.007       0.000       0.002\n",
            "aerials_won_pct          0.0020      0.001      1.421      0.156      -0.001       0.005\n",
            "==============================================================================\n",
            "Omnibus:                        5.390   Durbin-Watson:                   1.470\n",
            "Prob(Omnibus):                  0.068   Jarque-Bera (JB):                5.464\n",
            "Skew:                           0.138   Prob(JB):                       0.0651\n",
            "Kurtosis:                       2.919   Cond. No.                     6.76e+03\n",
            "==============================================================================\n",
            "\n",
            "Notes:\n",
            "[1] Standard Errors assume that the covariance matrix of the errors is correctly specified.\n",
            "[2] The condition number is large, 6.76e+03. This might indicate that there are\n",
            "strong multicollinearity or other numerical problems.\n"
          ]
        }
      ]
    },
    {
      "cell_type": "markdown",
      "source": [
        "# 加入固定效果"
      ],
      "metadata": {
        "id": "GpANNfoZgEF6"
      }
    },
    {
      "cell_type": "code",
      "source": [
        "COLUMNS_DEF = ['games_starts','age','CL','errors','clearances','passes_ground','touches_att_pen_area','touches_def_pen_area','aerials_won_pct']\n",
        "COLUMNS_DEF += ['isBundesliga']\n",
        "X = dataDEF[COLUMNS_DEF]\n",
        "y = np.log(dataDEF['value'])\n",
        "X = sm.add_constant(X)\n",
        "model = sm.OLS(y, X)\n",
        "\n",
        "results = model.fit()\n",
        "vif = pd.DataFrame()\n",
        "vif[\"VIF Factor\"] = [variance_inflation_factor(X.values, i) for i in range(X.shape[1])]\n",
        "vif[\"features\"] = X.columns\n",
        "# print(vif)\n",
        "print(results.summary())"
      ],
      "metadata": {
        "colab": {
          "base_uri": "https://localhost:8080/"
        },
        "id": "dJJb-7Z1gD7h",
        "outputId": "bbd857fd-5187-4037-ba3c-725c59b0c5b8"
      },
      "execution_count": null,
      "outputs": [
        {
          "output_type": "stream",
          "name": "stdout",
          "text": [
            "                            OLS Regression Results                            \n",
            "==============================================================================\n",
            "Dep. Variable:                  value   R-squared:                       0.535\n",
            "Model:                            OLS   Adj. R-squared:                  0.532\n",
            "Method:                 Least Squares   F-statistic:                     180.1\n",
            "Date:                Sat, 27 May 2023   Prob (F-statistic):          7.58e-252\n",
            "Time:                        15:28:57   Log-Likelihood:                -1597.7\n",
            "No. Observations:                1576   AIC:                             3217.\n",
            "Df Residuals:                    1565   BIC:                             3276.\n",
            "Df Model:                          10                                         \n",
            "Covariance Type:            nonrobust                                         \n",
            "========================================================================================\n",
            "                           coef    std err          t      P>|t|      [0.025      0.975]\n",
            "----------------------------------------------------------------------------------------\n",
            "const                   16.7975      0.142    118.090      0.000      16.518      17.076\n",
            "games_starts            -0.0236      0.004     -5.759      0.000      -0.032      -0.016\n",
            "age                     -0.0823      0.005    -17.243      0.000      -0.092      -0.073\n",
            "CL                       0.8337      0.049     16.976      0.000       0.737       0.930\n",
            "errors                  -0.0217      0.018     -1.186      0.236      -0.057       0.014\n",
            "clearances               0.0016      0.001      2.330      0.020       0.000       0.003\n",
            "passes_ground            0.0010   7.99e-05     12.343      0.000       0.001       0.001\n",
            "touches_att_pen_area     0.0135      0.001     10.873      0.000       0.011       0.016\n",
            "touches_def_pen_area     0.0013      0.001      2.554      0.011       0.000       0.002\n",
            "aerials_won_pct          0.0020      0.001      1.441      0.150      -0.001       0.005\n",
            "isBundesliga            -0.0550      0.047     -1.165      0.244      -0.148       0.038\n",
            "==============================================================================\n",
            "Omnibus:                        4.809   Durbin-Watson:                   1.473\n",
            "Prob(Omnibus):                  0.090   Jarque-Bera (JB):                4.878\n",
            "Skew:                           0.130   Prob(JB):                       0.0872\n",
            "Kurtosis:                       2.915   Cond. No.                     6.85e+03\n",
            "==============================================================================\n",
            "\n",
            "Notes:\n",
            "[1] Standard Errors assume that the covariance matrix of the errors is correctly specified.\n",
            "[2] The condition number is large, 6.85e+03. This might indicate that there are\n",
            "strong multicollinearity or other numerical problems.\n"
          ]
        }
      ]
    },
    {
      "cell_type": "code",
      "source": [
        "COLUMNS_DEF = ['games_starts','age','CL','errors','clearances','passes_ground','touches_att_pen_area','touches_def_pen_area','aerials_won_pct']\n",
        "COLUMNS_DEF += ['isLaLiga']\n",
        "X = dataDEF[COLUMNS_DEF]\n",
        "# print(X['carries'])\n",
        "# X.insert(0, 'age', dataDEF['age']**2)\n",
        "y = np.log(dataDEF['value'])\n",
        "X = sm.add_constant(X)\n",
        "model = sm.OLS(y, X)\n",
        "\n",
        "results = model.fit()\n",
        "vif = pd.DataFrame()\n",
        "vif[\"VIF Factor\"] = [variance_inflation_factor(X.values, i) for i in range(X.shape[1])]\n",
        "vif[\"features\"] = X.columns\n",
        "# print(vif)\n",
        "print(results.summary())"
      ],
      "metadata": {
        "colab": {
          "base_uri": "https://localhost:8080/"
        },
        "id": "LblszNUkgO7X",
        "outputId": "ab7ded73-ad95-47e8-d5cd-3a78c85834e8"
      },
      "execution_count": null,
      "outputs": [
        {
          "output_type": "stream",
          "name": "stdout",
          "text": [
            "                            OLS Regression Results                            \n",
            "==============================================================================\n",
            "Dep. Variable:                  value   R-squared:                       0.535\n",
            "Model:                            OLS   Adj. R-squared:                  0.532\n",
            "Method:                 Least Squares   F-statistic:                     180.1\n",
            "Date:                Sat, 27 May 2023   Prob (F-statistic):          8.04e-252\n",
            "Time:                        15:28:57   Log-Likelihood:                -1597.8\n",
            "No. Observations:                1576   AIC:                             3218.\n",
            "Df Residuals:                    1565   BIC:                             3277.\n",
            "Df Model:                          10                                         \n",
            "Covariance Type:            nonrobust                                         \n",
            "========================================================================================\n",
            "                           coef    std err          t      P>|t|      [0.025      0.975]\n",
            "----------------------------------------------------------------------------------------\n",
            "const                   16.7734      0.141    119.256      0.000      16.497      17.049\n",
            "games_starts            -0.0230      0.004     -5.579      0.000      -0.031      -0.015\n",
            "age                     -0.0812      0.005    -17.089      0.000      -0.090      -0.072\n",
            "CL                       0.8369      0.049     17.010      0.000       0.740       0.933\n",
            "errors                  -0.0208      0.018     -1.140      0.254      -0.057       0.015\n",
            "clearances               0.0014      0.001      2.139      0.033       0.000       0.003\n",
            "passes_ground            0.0010   8.04e-05     12.010      0.000       0.001       0.001\n",
            "touches_att_pen_area     0.0136      0.001     10.952      0.000       0.011       0.016\n",
            "touches_def_pen_area     0.0014      0.001      2.762      0.006       0.000       0.002\n",
            "aerials_won_pct          0.0019      0.001      1.384      0.167      -0.001       0.005\n",
            "isLaLiga                -0.0463      0.042     -1.112      0.266      -0.128       0.035\n",
            "==============================================================================\n",
            "Omnibus:                        5.257   Durbin-Watson:                   1.466\n",
            "Prob(Omnibus):                  0.072   Jarque-Bera (JB):                5.325\n",
            "Skew:                           0.139   Prob(JB):                       0.0698\n",
            "Kurtosis:                       2.938   Cond. No.                     6.76e+03\n",
            "==============================================================================\n",
            "\n",
            "Notes:\n",
            "[1] Standard Errors assume that the covariance matrix of the errors is correctly specified.\n",
            "[2] The condition number is large, 6.76e+03. This might indicate that there are\n",
            "strong multicollinearity or other numerical problems.\n"
          ]
        }
      ]
    },
    {
      "cell_type": "code",
      "source": [
        "COLUMNS_DEF = ['games_starts','age','CL','errors','clearances','passes_ground','touches_att_pen_area','touches_def_pen_area','aerials_won_pct']\n",
        "COLUMNS_DEF += ['isLigue1']\n",
        "X = dataDEF[COLUMNS_DEF]\n",
        "# print(X['carries'])\n",
        "# X.insert(0, 'age', dataDEF['age']**2)\n",
        "y = np.log(dataDEF['value'])\n",
        "X = sm.add_constant(X)\n",
        "model = sm.OLS(y, X)\n",
        "\n",
        "results = model.fit()\n",
        "vif = pd.DataFrame()\n",
        "vif[\"VIF Factor\"] = [variance_inflation_factor(X.values, i) for i in range(X.shape[1])]\n",
        "vif[\"features\"] = X.columns\n",
        "# print(vif)\n",
        "print(results.summary())"
      ],
      "metadata": {
        "colab": {
          "base_uri": "https://localhost:8080/"
        },
        "id": "pY7TtS9BgSBw",
        "outputId": "9b1b549d-9a3a-464a-b515-15963a89d558"
      },
      "execution_count": null,
      "outputs": [
        {
          "output_type": "stream",
          "name": "stdout",
          "text": [
            "                            OLS Regression Results                            \n",
            "==============================================================================\n",
            "Dep. Variable:                  value   R-squared:                       0.547\n",
            "Model:                            OLS   Adj. R-squared:                  0.544\n",
            "Method:                 Least Squares   F-statistic:                     189.1\n",
            "Date:                Sat, 27 May 2023   Prob (F-statistic):          7.84e-261\n",
            "Time:                        15:28:58   Log-Likelihood:                -1576.8\n",
            "No. Observations:                1576   AIC:                             3176.\n",
            "Df Residuals:                    1565   BIC:                             3235.\n",
            "Df Model:                          10                                         \n",
            "Covariance Type:            nonrobust                                         \n",
            "========================================================================================\n",
            "                           coef    std err          t      P>|t|      [0.025      0.975]\n",
            "----------------------------------------------------------------------------------------\n",
            "const                   16.8344      0.139    121.020      0.000      16.562      17.107\n",
            "games_starts            -0.0218      0.004     -5.370      0.000      -0.030      -0.014\n",
            "age                     -0.0836      0.005    -17.850      0.000      -0.093      -0.074\n",
            "CL                       0.8001      0.049     16.421      0.000       0.705       0.896\n",
            "errors                  -0.0120      0.018     -0.667      0.505      -0.047       0.023\n",
            "clearances               0.0013      0.001      1.951      0.051   -7.23e-06       0.003\n",
            "passes_ground            0.0010    7.9e-05     13.098      0.000       0.001       0.001\n",
            "touches_att_pen_area     0.0126      0.001     10.263      0.000       0.010       0.015\n",
            "touches_def_pen_area     0.0010      0.001      1.992      0.047    1.56e-05       0.002\n",
            "aerials_won_pct          0.0028      0.001      2.022      0.043    8.23e-05       0.005\n",
            "isLigue1                -0.2975      0.045     -6.596      0.000      -0.386      -0.209\n",
            "==============================================================================\n",
            "Omnibus:                        3.913   Durbin-Watson:                   1.518\n",
            "Prob(Omnibus):                  0.141   Jarque-Bera (JB):                3.978\n",
            "Skew:                           0.116   Prob(JB):                        0.137\n",
            "Kurtosis:                       2.920   Cond. No.                     6.78e+03\n",
            "==============================================================================\n",
            "\n",
            "Notes:\n",
            "[1] Standard Errors assume that the covariance matrix of the errors is correctly specified.\n",
            "[2] The condition number is large, 6.78e+03. This might indicate that there are\n",
            "strong multicollinearity or other numerical problems.\n"
          ]
        }
      ]
    },
    {
      "cell_type": "code",
      "source": [
        "COLUMNS_DEF = ['games_starts','age','CL','errors','clearances','passes_ground','touches_att_pen_area','touches_def_pen_area','aerials_won_pct']\n",
        "COLUMNS_DEF += ['isPremierLeague']\n",
        "X = dataDEF[COLUMNS_DEF]\n",
        "# print(X['carries'])\n",
        "# X.insert(0, 'age', dataDEF['age']**2)\n",
        "y = np.log(dataDEF['value'])\n",
        "X = sm.add_constant(X)\n",
        "model = sm.OLS(y, X)\n",
        "\n",
        "results = model.fit()\n",
        "vif = pd.DataFrame()\n",
        "vif[\"VIF Factor\"] = [variance_inflation_factor(X.values, i) for i in range(X.shape[1])]\n",
        "vif[\"features\"] = X.columns\n",
        "# print(vif)\n",
        "print(results.summary())"
      ],
      "metadata": {
        "colab": {
          "base_uri": "https://localhost:8080/"
        },
        "id": "PaRPAweQgXcA",
        "outputId": "fe4068a9-4489-46fd-b5e8-fc4811835bad"
      },
      "execution_count": null,
      "outputs": [
        {
          "output_type": "stream",
          "name": "stdout",
          "text": [
            "                            OLS Regression Results                            \n",
            "==============================================================================\n",
            "Dep. Variable:                  value   R-squared:                       0.584\n",
            "Model:                            OLS   Adj. R-squared:                  0.581\n",
            "Method:                 Least Squares   F-statistic:                     219.8\n",
            "Date:                Sat, 27 May 2023   Prob (F-statistic):          1.40e-289\n",
            "Time:                        15:28:58   Log-Likelihood:                -1509.9\n",
            "No. Observations:                1576   AIC:                             3042.\n",
            "Df Residuals:                    1565   BIC:                             3101.\n",
            "Df Model:                          10                                         \n",
            "Covariance Type:            nonrobust                                         \n",
            "========================================================================================\n",
            "                           coef    std err          t      P>|t|      [0.025      0.975]\n",
            "----------------------------------------------------------------------------------------\n",
            "const                   16.7508      0.133    125.919      0.000      16.490      17.012\n",
            "games_starts            -0.0199      0.004     -5.124      0.000      -0.028      -0.012\n",
            "age                     -0.0868      0.004    -19.319      0.000      -0.096      -0.078\n",
            "CL                       0.8169      0.046     17.581      0.000       0.726       0.908\n",
            "errors                  -0.0339      0.017     -1.966      0.049      -0.068   -8.62e-05\n",
            "clearances               0.0008      0.001      1.222      0.222      -0.000       0.002\n",
            "passes_ground            0.0010   7.53e-05     13.504      0.000       0.001       0.001\n",
            "touches_att_pen_area     0.0121      0.001     10.263      0.000       0.010       0.014\n",
            "touches_def_pen_area     0.0013      0.000      2.670      0.008       0.000       0.002\n",
            "aerials_won_pct          0.0027      0.001      2.039      0.042       0.000       0.005\n",
            "isPremierLeague          0.5099      0.037     13.641      0.000       0.437       0.583\n",
            "==============================================================================\n",
            "Omnibus:                       10.914   Durbin-Watson:                   1.542\n",
            "Prob(Omnibus):                  0.004   Jarque-Bera (JB):               10.940\n",
            "Skew:                           0.191   Prob(JB):                      0.00421\n",
            "Kurtosis:                       3.143   Cond. No.                     6.76e+03\n",
            "==============================================================================\n",
            "\n",
            "Notes:\n",
            "[1] Standard Errors assume that the covariance matrix of the errors is correctly specified.\n",
            "[2] The condition number is large, 6.76e+03. This might indicate that there are\n",
            "strong multicollinearity or other numerical problems.\n"
          ]
        }
      ]
    },
    {
      "cell_type": "code",
      "source": [
        "COLUMNS_DEF = ['games_starts','age','CL','errors','clearances','passes_ground','touches_att_pen_area','touches_def_pen_area','aerials_won_pct']\n",
        "COLUMNS_DEF += ['isSerieA']\n",
        "X = dataDEF[COLUMNS_DEF]\n",
        "# print(X['carries'])\n",
        "# X.insert(0, 'age', dataDEF['age']**2)\n",
        "y = np.log(dataDEF['value'])\n",
        "X = sm.add_constant(X)\n",
        "model = sm.OLS(y, X)\n",
        "\n",
        "results = model.fit()\n",
        "vif = pd.DataFrame()\n",
        "vif[\"VIF Factor\"] = [variance_inflation_factor(X.values, i) for i in range(X.shape[1])]\n",
        "vif[\"features\"] = X.columns\n",
        "# print(vif)\n",
        "print(results.summary())"
      ],
      "metadata": {
        "colab": {
          "base_uri": "https://localhost:8080/"
        },
        "id": "kSLNnNEngZ7J",
        "outputId": "19dd97f3-49b9-4876-e09c-ea7403dc82e1"
      },
      "execution_count": null,
      "outputs": [
        {
          "output_type": "stream",
          "name": "stdout",
          "text": [
            "                            OLS Regression Results                            \n",
            "==============================================================================\n",
            "Dep. Variable:                  value   R-squared:                       0.544\n",
            "Model:                            OLS   Adj. R-squared:                  0.541\n",
            "Method:                 Least Squares   F-statistic:                     186.9\n",
            "Date:                Sat, 27 May 2023   Prob (F-statistic):          1.36e-258\n",
            "Time:                        15:28:58   Log-Likelihood:                -1582.0\n",
            "No. Observations:                1576   AIC:                             3186.\n",
            "Df Residuals:                    1565   BIC:                             3245.\n",
            "Df Model:                          10                                         \n",
            "Covariance Type:            nonrobust                                         \n",
            "========================================================================================\n",
            "                           coef    std err          t      P>|t|      [0.025      0.975]\n",
            "----------------------------------------------------------------------------------------\n",
            "const                   16.8420      0.140    120.497      0.000      16.568      17.116\n",
            "games_starts            -0.0248      0.004     -6.102      0.000      -0.033      -0.017\n",
            "age                     -0.0816      0.005    -17.413      0.000      -0.091      -0.072\n",
            "CL                       0.8355      0.049     17.183      0.000       0.740       0.931\n",
            "errors                  -0.0240      0.018     -1.329      0.184      -0.059       0.011\n",
            "clearances               0.0011      0.001      1.657      0.098      -0.000       0.002\n",
            "passes_ground            0.0010   7.88e-05     12.411      0.000       0.001       0.001\n",
            "touches_att_pen_area     0.0139      0.001     11.316      0.000       0.011       0.016\n",
            "touches_def_pen_area     0.0018      0.001      3.445      0.001       0.001       0.003\n",
            "aerials_won_pct          0.0018      0.001      1.306      0.192      -0.001       0.004\n",
            "isSerieA                -0.2433      0.042     -5.736      0.000      -0.326      -0.160\n",
            "==============================================================================\n",
            "Omnibus:                        6.540   Durbin-Watson:                   1.475\n",
            "Prob(Omnibus):                  0.038   Jarque-Bera (JB):                6.624\n",
            "Skew:                           0.156   Prob(JB):                       0.0364\n",
            "Kurtosis:                       2.936   Cond. No.                     6.79e+03\n",
            "==============================================================================\n",
            "\n",
            "Notes:\n",
            "[1] Standard Errors assume that the covariance matrix of the errors is correctly specified.\n",
            "[2] The condition number is large, 6.79e+03. This might indicate that there are\n",
            "strong multicollinearity or other numerical problems.\n"
          ]
        }
      ]
    },
    {
      "cell_type": "code",
      "source": [
        "COLUMNS_DEF = ['games_starts','age','CL','errors','clearances','passes_ground','touches_att_pen_area','touches_def_pen_area','aerials_won_pct']\n",
        "COLUMNS_DEF += ['isSerieA','isPremierLeague','isLigue1','isLaLiga','isBundesliga']\n",
        "X = dataDEF[COLUMNS_DEF]\n",
        "# print(X['carries'])\n",
        "# X.insert(0, 'age', dataDEF['age']**2)\n",
        "y = np.log(dataDEF['value'])\n",
        "X = sm.add_constant(X)\n",
        "model = sm.OLS(y, X)\n",
        "\n",
        "results = model.fit()\n",
        "vif = pd.DataFrame()\n",
        "vif[\"VIF Factor\"] = [variance_inflation_factor(X.values, i) for i in range(X.shape[1])]\n",
        "vif[\"features\"] = X.columns\n",
        "# print(vif)\n",
        "print(results.summary())"
      ],
      "metadata": {
        "colab": {
          "base_uri": "https://localhost:8080/"
        },
        "id": "-rLCm4GAh7HG",
        "outputId": "b2aaf9af-244f-46c7-a1b0-049b8e87d544"
      },
      "execution_count": null,
      "outputs": [
        {
          "output_type": "stream",
          "name": "stdout",
          "text": [
            "                            OLS Regression Results                            \n",
            "==============================================================================\n",
            "Dep. Variable:                  value   R-squared:                       0.591\n",
            "Model:                            OLS   Adj. R-squared:                  0.587\n",
            "Method:                 Least Squares   F-statistic:                     173.5\n",
            "Date:                Sat, 27 May 2023   Prob (F-statistic):          1.36e-291\n",
            "Time:                        15:28:58   Log-Likelihood:                -1497.0\n",
            "No. Observations:                1576   AIC:                             3022.\n",
            "Df Residuals:                    1562   BIC:                             3097.\n",
            "Df Model:                          13                                         \n",
            "Covariance Type:            nonrobust                                         \n",
            "========================================================================================\n",
            "                           coef    std err          t      P>|t|      [0.025      0.975]\n",
            "----------------------------------------------------------------------------------------\n",
            "const                   14.0496      0.111    126.993      0.000      13.833      14.267\n",
            "games_starts            -0.0203      0.004     -5.230      0.000      -0.028      -0.013\n",
            "age                     -0.0877      0.005    -19.459      0.000      -0.097      -0.079\n",
            "CL                       0.7960      0.046     17.153      0.000       0.705       0.887\n",
            "errors                  -0.0283      0.017     -1.647      0.100      -0.062       0.005\n",
            "clearances               0.0006      0.001      0.877      0.380      -0.001       0.002\n",
            "passes_ground            0.0011    7.6e-05     13.899      0.000       0.001       0.001\n",
            "touches_att_pen_area     0.0119      0.001     10.077      0.000       0.010       0.014\n",
            "touches_def_pen_area     0.0013      0.000      2.563      0.010       0.000       0.002\n",
            "aerials_won_pct          0.0030      0.001      2.326      0.020       0.000       0.006\n",
            "isSerieA                 2.6454      0.039     68.125      0.000       2.569       2.722\n",
            "isPremierLeague          3.2226      0.038     84.810      0.000       3.148       3.297\n",
            "isLigue1                 2.5854      0.041     63.216      0.000       2.505       2.666\n",
            "isLaLiga                 2.8109      0.040     71.064      0.000       2.733       2.888\n",
            "isBundesliga             2.7853      0.040     69.231      0.000       2.706       2.864\n",
            "==============================================================================\n",
            "Omnibus:                       10.139   Durbin-Watson:                   1.573\n",
            "Prob(Omnibus):                  0.006   Jarque-Bera (JB):               10.115\n",
            "Skew:                           0.189   Prob(JB):                      0.00636\n",
            "Kurtosis:                       3.104   Cond. No.                     7.21e+18\n",
            "==============================================================================\n",
            "\n",
            "Notes:\n",
            "[1] Standard Errors assume that the covariance matrix of the errors is correctly specified.\n",
            "[2] The smallest eigenvalue is 1.99e-29. This might indicate that there are\n",
            "strong multicollinearity problems or that the design matrix is singular.\n"
          ]
        },
        {
          "output_type": "stream",
          "name": "stderr",
          "text": [
            "/usr/local/lib/python3.10/dist-packages/statsmodels/regression/linear_model.py:1752: RuntimeWarning: divide by zero encountered in double_scalars\n",
            "  return 1 - self.ssr/self.centered_tss\n",
            "/usr/local/lib/python3.10/dist-packages/statsmodels/stats/outliers_influence.py:195: RuntimeWarning: divide by zero encountered in double_scalars\n",
            "  vif = 1. / (1. - r_squared_i)\n"
          ]
        }
      ]
    },
    {
      "cell_type": "markdown",
      "source": [
        "# 'isSerieA','isPremierLeague','isLigue1','isLaLiga','isBundesliga'"
      ],
      "metadata": {
        "id": "-9MyCpXHgGY0"
      }
    },
    {
      "cell_type": "code",
      "source": [
        "COLUMNS_DEF = ['age','ball_recoveries','errors','foot_left','Pts','CL', 'miscontrols', 'clearances', 'pens_conceded', 'xg_net','fouls','aerials_won_pct']\n",
        "COLUMNS_DEF += ['touches_def_pen_area','touches_att_pen_area', 'tackles_won']\n",
        "X = dataDEF[COLUMNS_DEF]\n",
        "y = np.log(dataDEF['value'])\n",
        "result = stepwise_selection(X, y, COLUMNS_DEF)\n",
        "print(result)"
      ],
      "metadata": {
        "colab": {
          "base_uri": "https://localhost:8080/"
        },
        "outputId": "91d4ed9b-cc36-4987-f055-9a2577003f41",
        "id": "7F453NkIaAWT"
      },
      "execution_count": null,
      "outputs": [
        {
          "output_type": "stream",
          "name": "stdout",
          "text": [
            "刪除特徵：                  11，P-value：0.7622174101\n",
            "刪除特徵：                   7，P-value：0.6535424534\n",
            "刪除特徵：                   8，P-value：0.2720330309\n",
            "刪除特徵：                   2，P-value：0.0954190586\n",
            "刪除特徵：                  10，P-value：0.0818431108\n",
            "刪除特徵：                   5，P-value：0.1232076662\n",
            "刪除特徵：                   2，P-value：0.1062322544\n",
            "['age', 'ball_recoveries', 'Pts', 'CL', 'pens_conceded', 'fouls', 'touches_def_pen_area', 'touches_att_pen_area']\n"
          ]
        }
      ]
    },
    {
      "cell_type": "code",
      "source": [
        "X = dataDEF[result]\n",
        "X = sm.add_constant(X)\n",
        "model = sm.OLS(y, X)\n",
        "\n",
        "results = model.fit()\n",
        "vif = pd.DataFrame()\n",
        "vif[\"VIF Factor\"] = [variance_inflation_factor(X.values, i) for i in range(X.shape[1])]\n",
        "vif[\"features\"] = X.columns\n",
        "print(vif)\n",
        "\n",
        "print(results.summary())"
      ],
      "metadata": {
        "colab": {
          "base_uri": "https://localhost:8080/"
        },
        "outputId": "3e9737c5-ca66-4d08-9c45-3e36c9bde41f",
        "id": "jZFygoFvaAWU"
      },
      "execution_count": null,
      "outputs": [
        {
          "output_type": "stream",
          "name": "stdout",
          "text": [
            "   VIF Factor              features\n",
            "0   65.416417                 const\n",
            "1    1.041450                   age\n",
            "2    3.394169       ball_recoveries\n",
            "3    2.338875                   Pts\n",
            "4    2.291901                    CL\n",
            "5    1.130878         pens_conceded\n",
            "6    1.829916                 fouls\n",
            "7    2.331174  touches_def_pen_area\n",
            "8    1.568504  touches_att_pen_area\n",
            "                            OLS Regression Results                            \n",
            "==============================================================================\n",
            "Dep. Variable:                  value   R-squared:                       0.568\n",
            "Model:                            OLS   Adj. R-squared:                  0.565\n",
            "Method:                 Least Squares   F-statistic:                     257.1\n",
            "Date:                Sat, 27 May 2023   Prob (F-statistic):          7.74e-279\n",
            "Time:                        15:28:59   Log-Likelihood:                -1540.5\n",
            "No. Observations:                1576   AIC:                             3099.\n",
            "Df Residuals:                    1567   BIC:                             3147.\n",
            "Df Model:                           8                                         \n",
            "Covariance Type:            nonrobust                                         \n",
            "========================================================================================\n",
            "                           coef    std err          t      P>|t|      [0.025      0.975]\n",
            "----------------------------------------------------------------------------------------\n",
            "const                   16.0518      0.131    122.166      0.000      15.794      16.310\n",
            "age                     -0.0896      0.005    -19.602      0.000      -0.099      -0.081\n",
            "ball_recoveries          0.0014      0.000      4.737      0.000       0.001       0.002\n",
            "Pts                      0.0220      0.001     15.430      0.000       0.019       0.025\n",
            "CL                       0.4352      0.060      7.239      0.000       0.317       0.553\n",
            "pens_conceded           -0.0790      0.024     -3.259      0.001      -0.127      -0.031\n",
            "fouls                   -0.0090      0.002     -4.884      0.000      -0.013      -0.005\n",
            "touches_def_pen_area     0.0032      0.000     10.226      0.000       0.003       0.004\n",
            "touches_att_pen_area     0.0131      0.001     11.915      0.000       0.011       0.015\n",
            "==============================================================================\n",
            "Omnibus:                        2.594   Durbin-Watson:                   1.519\n",
            "Prob(Omnibus):                  0.273   Jarque-Bera (JB):                2.633\n",
            "Skew:                           0.081   Prob(JB):                        0.268\n",
            "Kurtosis:                       2.883   Cond. No.                     2.19e+03\n",
            "==============================================================================\n",
            "\n",
            "Notes:\n",
            "[1] Standard Errors assume that the covariance matrix of the errors is correctly specified.\n",
            "[2] The condition number is large, 2.19e+03. This might indicate that there are\n",
            "strong multicollinearity or other numerical problems.\n"
          ]
        }
      ]
    },
    {
      "cell_type": "markdown",
      "source": [
        "# GoalKeeper"
      ],
      "metadata": {
        "id": "vU_Gn2NnWwjd"
      }
    },
    {
      "cell_type": "code",
      "source": [
        "dataGK = data201920_df[data201920_df['position2']=='Goalkeeper']\n",
        "dataGK = dataGK[dataGK['player']!='Emiliano Viviano'] #guy was causing some problems\n",
        "# dataGK.head()"
      ],
      "metadata": {
        "id": "2J8dBFjuHV7y"
      },
      "execution_count": null,
      "outputs": []
    },
    {
      "cell_type": "code",
      "source": [
        "# COLUMNS_GK = ['games_starts','age','CL','psnpxg_per_shot_on_target_against','clean_sheets','wins_gk','errors','passes_pct_launched_gk']\n",
        "COLUMNS_GK = ['games_starts','age','CL','saves','clean_sheets','wins_gk','errors','passes_pct_launched_gk']\n",
        "\n",
        "# COLUMNS_GK += ['clean_sheetsm', 'passes_pct_launched_gk', 'psnpxg_per_shot_on_target_against', 'draws_gk','CL', 'age']\n",
        "X = dataGK[COLUMNS_GK]\n",
        "y = np.log(dataGK['value'])\n",
        "\n",
        "X = sm.add_constant(X)\n",
        "model = sm.OLS(y, X)\n",
        "\n",
        "results = model.fit()\n",
        "vif = pd.DataFrame()\n",
        "vif[\"VIF Factor\"] = [variance_inflation_factor(X.values, i) for i in range(X.shape[1])]\n",
        "vif[\"features\"] = X.columns\n",
        "print(vif[1:])\n",
        "print(results.summary())"
      ],
      "metadata": {
        "colab": {
          "base_uri": "https://localhost:8080/",
          "height": 244
        },
        "id": "Octy2CkLHV7z",
        "outputId": "e249e313-18e6-4f5f-d5f8-4c800ffac0a8"
      },
      "execution_count": null,
      "outputs": [
        {
          "output_type": "error",
          "ename": "NameError",
          "evalue": "ignored",
          "traceback": [
            "\u001b[0;31m---------------------------------------------------------------------------\u001b[0m",
            "\u001b[0;31mNameError\u001b[0m                                 Traceback (most recent call last)",
            "\u001b[0;32m<ipython-input-1-947dbb8ade00>\u001b[0m in \u001b[0;36m<cell line: 5>\u001b[0;34m()\u001b[0m\n\u001b[1;32m      3\u001b[0m \u001b[0;34m\u001b[0m\u001b[0m\n\u001b[1;32m      4\u001b[0m \u001b[0;31m# COLUMNS_GK += ['clean_sheetsm', 'passes_pct_launched_gk', 'psnpxg_per_shot_on_target_against', 'draws_gk','CL', 'age']\u001b[0m\u001b[0;34m\u001b[0m\u001b[0;34m\u001b[0m\u001b[0m\n\u001b[0;32m----> 5\u001b[0;31m \u001b[0mX\u001b[0m \u001b[0;34m=\u001b[0m \u001b[0mdataGK\u001b[0m\u001b[0;34m[\u001b[0m\u001b[0mCOLUMNS_GK\u001b[0m\u001b[0;34m]\u001b[0m\u001b[0;34m\u001b[0m\u001b[0;34m\u001b[0m\u001b[0m\n\u001b[0m\u001b[1;32m      6\u001b[0m \u001b[0my\u001b[0m \u001b[0;34m=\u001b[0m \u001b[0mnp\u001b[0m\u001b[0;34m.\u001b[0m\u001b[0mlog\u001b[0m\u001b[0;34m(\u001b[0m\u001b[0mdataGK\u001b[0m\u001b[0;34m[\u001b[0m\u001b[0;34m'value'\u001b[0m\u001b[0;34m]\u001b[0m\u001b[0;34m)\u001b[0m\u001b[0;34m\u001b[0m\u001b[0;34m\u001b[0m\u001b[0m\n\u001b[1;32m      7\u001b[0m \u001b[0;34m\u001b[0m\u001b[0m\n",
            "\u001b[0;31mNameError\u001b[0m: name 'dataGK' is not defined"
          ]
        }
      ]
    },
    {
      "cell_type": "markdown",
      "source": [
        "# 加入隊伍固定效果"
      ],
      "metadata": {
        "id": "Qx_I3JnObmET"
      }
    },
    {
      "cell_type": "code",
      "source": [
        "COLUMNS_GK = ['games_starts','age','CL','psnpxg_per_shot_on_target_against','clean_sheets','wins_gk','errors','passes_pct_launched_gk','isPremierLeague']\n",
        "# COLUMNS_GK += ['clean_sheetsm', 'passes_pct_launched_gk', 'psnpxg_per_shot_on_target_against', 'draws_gk','CL', 'age']\n",
        "X = dataGK[COLUMNS_GK]\n",
        "y = np.log(dataGK['value'])\n",
        "\n",
        "X = sm.add_constant(X)\n",
        "model = sm.OLS(y, X)\n",
        "\n",
        "results = model.fit()\n",
        "vif = pd.DataFrame()\n",
        "vif[\"VIF Factor\"] = [variance_inflation_factor(X.values, i) for i in range(X.shape[1])]\n",
        "vif[\"features\"] = X.columns\n",
        "# print(vif[1:])\n",
        "print(results.summary())"
      ],
      "metadata": {
        "colab": {
          "base_uri": "https://localhost:8080/"
        },
        "id": "jcDIRDRfblT8",
        "outputId": "8ff5eac8-8b9b-457e-838a-68db7b3b88d6"
      },
      "execution_count": null,
      "outputs": [
        {
          "output_type": "stream",
          "name": "stdout",
          "text": [
            "                            OLS Regression Results                            \n",
            "==============================================================================\n",
            "Dep. Variable:                  value   R-squared:                       0.687\n",
            "Model:                            OLS   Adj. R-squared:                  0.676\n",
            "Method:                 Least Squares   F-statistic:                     61.90\n",
            "Date:                Sat, 27 May 2023   Prob (F-statistic):           5.24e-59\n",
            "Time:                        15:28:59   Log-Likelihood:                -216.61\n",
            "No. Observations:                 264   AIC:                             453.2\n",
            "Df Residuals:                     254   BIC:                             489.0\n",
            "Df Model:                           9                                         \n",
            "Covariance Type:            nonrobust                                         \n",
            "=====================================================================================================\n",
            "                                        coef    std err          t      P>|t|      [0.025      0.975]\n",
            "-----------------------------------------------------------------------------------------------------\n",
            "const                                17.7472      0.353     50.305      0.000      17.052      18.442\n",
            "games_starts                          0.0173      0.006      2.705      0.007       0.005       0.030\n",
            "age                                  -0.1153      0.010    -11.706      0.000      -0.135      -0.096\n",
            "CL                                    0.4349      0.122      3.570      0.000       0.195       0.675\n",
            "psnpxg_per_shot_on_target_against    -3.4876      0.802     -4.349      0.000      -5.067      -1.908\n",
            "clean_sheets                          0.0218      0.016      1.374      0.171      -0.009       0.053\n",
            "wins_gk                               0.0548      0.012      4.418      0.000       0.030       0.079\n",
            "errors                               -0.0633      0.038     -1.686      0.093      -0.137       0.011\n",
            "passes_pct_launched_gk                0.0190      0.005      3.491      0.001       0.008       0.030\n",
            "isPremierLeague                       0.6334      0.088      7.199      0.000       0.460       0.807\n",
            "==============================================================================\n",
            "Omnibus:                        1.363   Durbin-Watson:                   1.916\n",
            "Prob(Omnibus):                  0.506   Jarque-Bera (JB):                1.456\n",
            "Skew:                           0.161   Prob(JB):                        0.483\n",
            "Kurtosis:                       2.831   Cond. No.                     1.37e+03\n",
            "==============================================================================\n",
            "\n",
            "Notes:\n",
            "[1] Standard Errors assume that the covariance matrix of the errors is correctly specified.\n",
            "[2] The condition number is large, 1.37e+03. This might indicate that there are\n",
            "strong multicollinearity or other numerical problems.\n"
          ]
        }
      ]
    },
    {
      "cell_type": "code",
      "source": [
        "COLUMNS_GK = ['games_starts','age','CL','psnpxg_per_shot_on_target_against','clean_sheets','wins_gk','errors','passes_pct_launched_gk','isLigue1']\n",
        "# COLUMNS_GK += ['clean_sheetsm', 'passes_pct_launched_gk', 'psnpxg_per_shot_on_target_against', 'draws_gk','CL', 'age']\n",
        "X = dataGK[COLUMNS_GK]\n",
        "y = np.log(dataGK['value'])\n",
        "\n",
        "X = sm.add_constant(X)\n",
        "model = sm.OLS(y, X)\n",
        "\n",
        "results = model.fit()\n",
        "vif = pd.DataFrame()\n",
        "vif[\"VIF Factor\"] = [variance_inflation_factor(X.values, i) for i in range(X.shape[1])]\n",
        "vif[\"features\"] = X.columns\n",
        "# print(vif[1:])\n",
        "print(results.summary())"
      ],
      "metadata": {
        "colab": {
          "base_uri": "https://localhost:8080/"
        },
        "id": "0ESw_iBBeKwC",
        "outputId": "8049b882-63df-496e-d38b-9d3c837c3126"
      },
      "execution_count": null,
      "outputs": [
        {
          "output_type": "stream",
          "name": "stdout",
          "text": [
            "                            OLS Regression Results                            \n",
            "==============================================================================\n",
            "Dep. Variable:                  value   R-squared:                       0.659\n",
            "Model:                            OLS   Adj. R-squared:                  0.647\n",
            "Method:                 Least Squares   F-statistic:                     54.59\n",
            "Date:                Sat, 27 May 2023   Prob (F-statistic):           2.10e-54\n",
            "Time:                        15:28:59   Log-Likelihood:                -227.77\n",
            "No. Observations:                 264   AIC:                             475.5\n",
            "Df Residuals:                     254   BIC:                             511.3\n",
            "Df Model:                           9                                         \n",
            "Covariance Type:            nonrobust                                         \n",
            "=====================================================================================================\n",
            "                                        coef    std err          t      P>|t|      [0.025      0.975]\n",
            "-----------------------------------------------------------------------------------------------------\n",
            "const                                17.7801      0.370     48.115      0.000      17.052      18.508\n",
            "games_starts                          0.0115      0.007      1.729      0.085      -0.002       0.025\n",
            "age                                  -0.1023      0.010    -10.203      0.000      -0.122      -0.083\n",
            "CL                                    0.2776      0.128      2.161      0.032       0.025       0.531\n",
            "psnpxg_per_shot_on_target_against    -2.5984      0.817     -3.182      0.002      -4.206      -0.990\n",
            "clean_sheets                          0.0363      0.017      2.179      0.030       0.003       0.069\n",
            "wins_gk                               0.0624      0.013      4.840      0.000       0.037       0.088\n",
            "errors                               -0.0463      0.039     -1.187      0.236      -0.123       0.031\n",
            "passes_pct_launched_gk                0.0088      0.005      1.626      0.105      -0.002       0.019\n",
            "isLigue1                             -0.5138      0.099     -5.199      0.000      -0.708      -0.319\n",
            "==============================================================================\n",
            "Omnibus:                        1.554   Durbin-Watson:                   1.988\n",
            "Prob(Omnibus):                  0.460   Jarque-Bera (JB):                1.477\n",
            "Skew:                           0.183   Prob(JB):                        0.478\n",
            "Kurtosis:                       2.983   Cond. No.                     1.34e+03\n",
            "==============================================================================\n",
            "\n",
            "Notes:\n",
            "[1] Standard Errors assume that the covariance matrix of the errors is correctly specified.\n",
            "[2] The condition number is large, 1.34e+03. This might indicate that there are\n",
            "strong multicollinearity or other numerical problems.\n"
          ]
        }
      ]
    },
    {
      "cell_type": "code",
      "source": [
        "COLUMNS_GK = ['games_starts','age','CL','psnpxg_per_shot_on_target_against','clean_sheets','wins_gk','errors','passes_pct_launched_gk','isLaLiga']\n",
        "# COLUMNS_GK += ['clean_sheetsm', 'passes_pct_launched_gk', 'psnpxg_per_shot_on_target_against', 'draws_gk','CL', 'age']\n",
        "X = dataGK[COLUMNS_GK]\n",
        "y = np.log(dataGK['value'])\n",
        "\n",
        "X = sm.add_constant(X)\n",
        "model = sm.OLS(y, X)\n",
        "\n",
        "results = model.fit()\n",
        "vif = pd.DataFrame()\n",
        "vif[\"VIF Factor\"] = [variance_inflation_factor(X.values, i) for i in range(X.shape[1])]\n",
        "vif[\"features\"] = X.columns\n",
        "# print(vif[1:])\n",
        "print(results.summary())"
      ],
      "metadata": {
        "colab": {
          "base_uri": "https://localhost:8080/"
        },
        "id": "5CxnGCVreV7y",
        "outputId": "941c3600-52ee-48ae-eff1-539937daa323"
      },
      "execution_count": null,
      "outputs": [
        {
          "output_type": "stream",
          "name": "stdout",
          "text": [
            "                            OLS Regression Results                            \n",
            "==============================================================================\n",
            "Dep. Variable:                  value   R-squared:                       0.624\n",
            "Model:                            OLS   Adj. R-squared:                  0.611\n",
            "Method:                 Least Squares   F-statistic:                     46.89\n",
            "Date:                Sat, 27 May 2023   Prob (F-statistic):           4.23e-49\n",
            "Time:                        15:28:59   Log-Likelihood:                -240.66\n",
            "No. Observations:                 264   AIC:                             501.3\n",
            "Df Residuals:                     254   BIC:                             537.1\n",
            "Df Model:                           9                                         \n",
            "Covariance Type:            nonrobust                                         \n",
            "=====================================================================================================\n",
            "                                        coef    std err          t      P>|t|      [0.025      0.975]\n",
            "-----------------------------------------------------------------------------------------------------\n",
            "const                                17.5205      0.387     45.281      0.000      16.759      18.282\n",
            "games_starts                          0.0138      0.007      1.968      0.050   -1.19e-05       0.028\n",
            "age                                  -0.0997      0.011     -9.479      0.000      -0.120      -0.079\n",
            "CL                                    0.3811      0.133      2.861      0.005       0.119       0.643\n",
            "psnpxg_per_shot_on_target_against    -1.9357      0.851     -2.273      0.024      -3.613      -0.259\n",
            "clean_sheets                          0.0242      0.018      1.373      0.171      -0.011       0.059\n",
            "wins_gk                               0.0639      0.014      4.700      0.000       0.037       0.091\n",
            "errors                               -0.0346      0.041     -0.840      0.401      -0.116       0.046\n",
            "passes_pct_launched_gk                0.0056      0.006      1.001      0.318      -0.005       0.017\n",
            "isLaLiga                              0.0889      0.094      0.940      0.348      -0.097       0.275\n",
            "==============================================================================\n",
            "Omnibus:                        1.705   Durbin-Watson:                   1.962\n",
            "Prob(Omnibus):                  0.426   Jarque-Bera (JB):                1.752\n",
            "Skew:                           0.191   Prob(JB):                        0.416\n",
            "Kurtosis:                       2.882   Cond. No.                     1.33e+03\n",
            "==============================================================================\n",
            "\n",
            "Notes:\n",
            "[1] Standard Errors assume that the covariance matrix of the errors is correctly specified.\n",
            "[2] The condition number is large, 1.33e+03. This might indicate that there are\n",
            "strong multicollinearity or other numerical problems.\n"
          ]
        }
      ]
    },
    {
      "cell_type": "code",
      "source": [
        "COLUMNS_GK = ['games_starts','age','CL','psnpxg_per_shot_on_target_against','clean_sheets','wins_gk','errors','passes_pct_launched_gk','isBundesliga']\n",
        "# COLUMNS_GK += ['clean_sheetsm', 'passes_pct_launched_gk', 'psnpxg_per_shot_on_target_against', 'draws_gk','CL', 'age']\n",
        "X = dataGK[COLUMNS_GK]\n",
        "y = np.log(dataGK['value'])\n",
        "\n",
        "X = sm.add_constant(X)\n",
        "model = sm.OLS(y, X)\n",
        "\n",
        "results = model.fit()\n",
        "vif = pd.DataFrame()\n",
        "vif[\"VIF Factor\"] = [variance_inflation_factor(X.values, i) for i in range(X.shape[1])]\n",
        "vif[\"features\"] = X.columns\n",
        "# print(vif[1:])\n",
        "print(results.summary())"
      ],
      "metadata": {
        "colab": {
          "base_uri": "https://localhost:8080/"
        },
        "id": "nCb0XM33evF8",
        "outputId": "8f69ba1c-19e4-4efc-c931-d159e4dd2459"
      },
      "execution_count": null,
      "outputs": [
        {
          "output_type": "stream",
          "name": "stdout",
          "text": [
            "                            OLS Regression Results                            \n",
            "==============================================================================\n",
            "Dep. Variable:                  value   R-squared:                       0.629\n",
            "Model:                            OLS   Adj. R-squared:                  0.616\n",
            "Method:                 Least Squares   F-statistic:                     47.89\n",
            "Date:                Sat, 27 May 2023   Prob (F-statistic):           8.13e-50\n",
            "Time:                        15:28:59   Log-Likelihood:                -238.92\n",
            "No. Observations:                 264   AIC:                             497.8\n",
            "Df Residuals:                     254   BIC:                             533.6\n",
            "Df Model:                           9                                         \n",
            "Covariance Type:            nonrobust                                         \n",
            "=====================================================================================================\n",
            "                                        coef    std err          t      P>|t|      [0.025      0.975]\n",
            "-----------------------------------------------------------------------------------------------------\n",
            "const                                17.4746      0.385     45.425      0.000      16.717      18.232\n",
            "games_starts                          0.0147      0.007      2.105      0.036       0.001       0.028\n",
            "age                                  -0.0992      0.010     -9.495      0.000      -0.120      -0.079\n",
            "CL                                    0.4134      0.133      3.105      0.002       0.151       0.676\n",
            "psnpxg_per_shot_on_target_against    -1.7039      0.855     -1.992      0.047      -3.388      -0.020\n",
            "clean_sheets                          0.0195      0.018      1.104      0.271      -0.015       0.054\n",
            "wins_gk                               0.0653      0.014      4.835      0.000       0.039       0.092\n",
            "errors                               -0.0383      0.041     -0.942      0.347      -0.118       0.042\n",
            "passes_pct_launched_gk                0.0060      0.006      1.066      0.287      -0.005       0.017\n",
            "isBundesliga                         -0.2234      0.108     -2.066      0.040      -0.436      -0.010\n",
            "==============================================================================\n",
            "Omnibus:                        1.148   Durbin-Watson:                   1.935\n",
            "Prob(Omnibus):                  0.563   Jarque-Bera (JB):                1.252\n",
            "Skew:                           0.130   Prob(JB):                        0.535\n",
            "Kurtosis:                       2.786   Cond. No.                     1.34e+03\n",
            "==============================================================================\n",
            "\n",
            "Notes:\n",
            "[1] Standard Errors assume that the covariance matrix of the errors is correctly specified.\n",
            "[2] The condition number is large, 1.34e+03. This might indicate that there are\n",
            "strong multicollinearity or other numerical problems.\n"
          ]
        }
      ]
    },
    {
      "cell_type": "code",
      "source": [
        "COLUMNS_GK = ['games_starts','age','CL','psnpxg_per_shot_on_target_against','clean_sheets','wins_gk','errors','passes_pct_launched_gk','isSerieA']\n",
        "X = dataGK[COLUMNS_GK]\n",
        "y = np.log(dataGK['value'])\n",
        "\n",
        "X = sm.add_constant(X)\n",
        "model = sm.OLS(y, X)\n",
        "\n",
        "results = model.fit()\n",
        "vif = pd.DataFrame()\n",
        "vif[\"VIF Factor\"] = [variance_inflation_factor(X.values, i) for i in range(X.shape[1])]\n",
        "vif[\"features\"] = X.columns\n",
        "# print(vif[1:])\n",
        "print(results.summary())"
      ],
      "metadata": {
        "colab": {
          "base_uri": "https://localhost:8080/"
        },
        "id": "846b-_twez_q",
        "outputId": "6394c7d3-247c-4778-e68d-c39c66f7450d"
      },
      "execution_count": null,
      "outputs": [
        {
          "output_type": "stream",
          "name": "stdout",
          "text": [
            "                            OLS Regression Results                            \n",
            "==============================================================================\n",
            "Dep. Variable:                  value   R-squared:                       0.625\n",
            "Model:                            OLS   Adj. R-squared:                  0.612\n",
            "Method:                 Least Squares   F-statistic:                     47.01\n",
            "Date:                Sat, 27 May 2023   Prob (F-statistic):           3.48e-49\n",
            "Time:                        15:28:59   Log-Likelihood:                -240.45\n",
            "No. Observations:                 264   AIC:                             500.9\n",
            "Df Residuals:                     254   BIC:                             536.7\n",
            "Df Model:                           9                                         \n",
            "Covariance Type:            nonrobust                                         \n",
            "=====================================================================================================\n",
            "                                        coef    std err          t      P>|t|      [0.025      0.975]\n",
            "-----------------------------------------------------------------------------------------------------\n",
            "const                                17.6473      0.394     44.813      0.000      16.872      18.423\n",
            "games_starts                          0.0143      0.007      2.028      0.044       0.000       0.028\n",
            "age                                  -0.1021      0.011     -9.479      0.000      -0.123      -0.081\n",
            "CL                                    0.3972      0.134      2.971      0.003       0.134       0.661\n",
            "psnpxg_per_shot_on_target_against    -2.1976      0.866     -2.538      0.012      -3.903      -0.492\n",
            "clean_sheets                          0.0243      0.018      1.387      0.167      -0.010       0.059\n",
            "wins_gk                               0.0616      0.014      4.541      0.000       0.035       0.088\n",
            "errors                               -0.0365      0.041     -0.891      0.374      -0.117       0.044\n",
            "passes_pct_launched_gk                0.0072      0.006      1.253      0.211      -0.004       0.019\n",
            "isSerieA                             -0.1107      0.098     -1.132      0.259      -0.303       0.082\n",
            "==============================================================================\n",
            "Omnibus:                        1.315   Durbin-Watson:                   1.971\n",
            "Prob(Omnibus):                  0.518   Jarque-Bera (JB):                1.365\n",
            "Skew:                           0.167   Prob(JB):                        0.505\n",
            "Kurtosis:                       2.889   Cond. No.                     1.35e+03\n",
            "==============================================================================\n",
            "\n",
            "Notes:\n",
            "[1] Standard Errors assume that the covariance matrix of the errors is correctly specified.\n",
            "[2] The condition number is large, 1.35e+03. This might indicate that there are\n",
            "strong multicollinearity or other numerical problems.\n"
          ]
        }
      ]
    },
    {
      "cell_type": "code",
      "source": [],
      "metadata": {
        "id": "fdf4ed4be4mh"
      },
      "execution_count": null,
      "outputs": []
    },
    {
      "cell_type": "markdown",
      "source": [],
      "metadata": {
        "id": "_offFaP5eLcR"
      }
    },
    {
      "cell_type": "code",
      "source": [
        "COLUMNS_GK = ['clean_sheets', 'saves','own_goals_against_gk', 'GA','errors','games_starts', 'pens_conceded' , 'wins_gk', 'passes_other_body', 'dribble_tackles_pct']\n",
        "COLUMNS_GK += ['passes_pct_launched_gk', 'psnpxg_per_shot_on_target_against','CL', 'age']\n",
        "X = dataGK[COLUMNS_GK]\n",
        "y = np.log(dataGK['value'])\n",
        "result = stepwise_selection(X, y, COLUMNS_GK)\n",
        "print(result)"
      ],
      "metadata": {
        "colab": {
          "base_uri": "https://localhost:8080/"
        },
        "id": "LKodrmGmUnLL",
        "outputId": "7493ea8b-2282-43dd-fe7e-12710033fe10"
      },
      "execution_count": null,
      "outputs": [
        {
          "output_type": "stream",
          "name": "stdout",
          "text": [
            "刪除特徵：                   6，P-value：0.8284326716\n",
            "刪除特徵：                   1，P-value：0.8283943591\n",
            "刪除特徵：                   1，P-value：0.8103840063\n",
            "刪除特徵：                   1，P-value：0.7657989956\n",
            "刪除特徵：                   5，P-value：0.7357570560\n",
            "刪除特徵：                   4，P-value：0.4732247985\n",
            "刪除特徵：                   1，P-value：0.3439907362\n",
            "刪除特徵：                   3，P-value：0.3262312431\n",
            "刪除特徵：                   1，P-value：0.1180505668\n",
            "['clean_sheets', 'wins_gk', 'psnpxg_per_shot_on_target_against', 'CL', 'age']\n"
          ]
        }
      ]
    },
    {
      "cell_type": "code",
      "source": [
        "# clean_sheetsm = 守門員無失球次數除以上場時間(分鐘)（由於分母固定，係數看起來很大）\n",
        "# psnpxg_per_shot_on_target_against = 守門員每次被對方射正門的進球數\n",
        "# passes_pct_launched_gk = 傳出超過40碼傳球的比例\n",
        "features = ['errors']\n",
        "features += result\n",
        "\n",
        "X = dataGK[features]\n",
        "\n",
        "X = sm.add_constant(X)\n",
        "model = sm.OLS(y, X)\n",
        "\n",
        "results = model.fit()\n",
        "vif = pd.DataFrame()\n",
        "vif[\"VIF Factor\"] = [variance_inflation_factor(X.values, i) for i in range(X.shape[1])]\n",
        "vif[\"features\"] = X.columns\n",
        "print(vif[1:])\n",
        "print(results.summary())"
      ],
      "metadata": {
        "colab": {
          "base_uri": "https://localhost:8080/"
        },
        "id": "yonDbqgZLQ-4",
        "outputId": "b48704df-bbf6-4e5f-80b9-4d4117b0ba65"
      },
      "execution_count": null,
      "outputs": [
        {
          "output_type": "stream",
          "name": "stdout",
          "text": [
            "   VIF Factor                           features\n",
            "1    1.101917                             errors\n",
            "2    3.496138                       clean_sheets\n",
            "3    4.178419                            wins_gk\n",
            "4    1.023527  psnpxg_per_shot_on_target_against\n",
            "5    1.473855                                 CL\n",
            "6    1.016462                                age\n",
            "                            OLS Regression Results                            \n",
            "==============================================================================\n",
            "Dep. Variable:                  value   R-squared:                       0.617\n",
            "Model:                            OLS   Adj. R-squared:                  0.608\n",
            "Method:                 Least Squares   F-statistic:                     69.03\n",
            "Date:                Sat, 27 May 2023   Prob (F-statistic):           8.69e-51\n",
            "Time:                        15:29:00   Log-Likelihood:                -243.16\n",
            "No. Observations:                 264   AIC:                             500.3\n",
            "Df Residuals:                     257   BIC:                             525.3\n",
            "Df Model:                           6                                         \n",
            "Covariance Type:            nonrobust                                         \n",
            "=====================================================================================================\n",
            "                                        coef    std err          t      P>|t|      [0.025      0.975]\n",
            "-----------------------------------------------------------------------------------------------------\n",
            "const                                17.8097      0.362     49.156      0.000      17.096      18.523\n",
            "errors                               -0.0242      0.040     -0.599      0.550      -0.104       0.055\n",
            "clean_sheets                          0.0399      0.016      2.544      0.012       0.009       0.071\n",
            "wins_gk                               0.0747      0.012      6.179      0.000       0.051       0.099\n",
            "psnpxg_per_shot_on_target_against    -1.7534      0.777     -2.258      0.025      -3.283      -0.224\n",
            "CL                                    0.2482      0.113      2.204      0.028       0.026       0.470\n",
            "age                                  -0.0975      0.011     -9.280      0.000      -0.118      -0.077\n",
            "==============================================================================\n",
            "Omnibus:                        1.384   Durbin-Watson:                   1.983\n",
            "Prob(Omnibus):                  0.501   Jarque-Bera (JB):                1.481\n",
            "Skew:                           0.158   Prob(JB):                        0.477\n",
            "Kurtosis:                       2.814   Cond. No.                         647.\n",
            "==============================================================================\n",
            "\n",
            "Notes:\n",
            "[1] Standard Errors assume that the covariance matrix of the errors is correctly specified.\n"
          ]
        }
      ]
    },
    {
      "cell_type": "code",
      "source": [],
      "metadata": {
        "id": "Bud6juBYGD66"
      },
      "execution_count": null,
      "outputs": []
    }
  ]
}